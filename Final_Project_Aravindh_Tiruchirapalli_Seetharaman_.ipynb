{
  "cells": [
    {
      "cell_type": "markdown",
      "metadata": {
        "id": "view-in-github",
        "colab_type": "text"
      },
      "source": [
        "<a href=\"https://colab.research.google.com/github/tsaravindh/Big_Data_Pipeline/blob/main/Final_Project_Aravindh_Tiruchirapalli_Seetharaman_.ipynb\" target=\"_parent\"><img src=\"https://colab.research.google.com/assets/colab-badge.svg\" alt=\"Open In Colab\"/></a>"
      ]
    },
    {
      "cell_type": "code",
      "execution_count": null,
      "id": "5861ad02-5d4d-4f4d-b2d5-a1faa9ba3240",
      "metadata": {
        "execution": {
          "iopub.execute_input": "2025-06-10T13:07:51.397687Z",
          "iopub.status.busy": "2025-06-10T13:07:51.396919Z",
          "iopub.status.idle": "2025-06-10T13:08:56.775434Z",
          "shell.execute_reply": "2025-06-10T13:08:56.774184Z",
          "shell.execute_reply.started": "2025-06-10T13:07:51.397634Z"
        },
        "tags": [],
        "colab": {
          "referenced_widgets": [
            "0f09eaab38124283ad4a29c4c71ea1a4",
            ""
          ]
        },
        "id": "5861ad02-5d4d-4f4d-b2d5-a1faa9ba3240",
        "outputId": "41342b95-0b18-4d3f-f6a0-83d40df93f15"
      },
      "outputs": [
        {
          "data": {
            "application/vnd.jupyter.widget-view+json": {
              "model_id": "0f09eaab38124283ad4a29c4c71ea1a4",
              "version_major": 2,
              "version_minor": 0
            },
            "text/plain": [
              "VBox()"
            ]
          },
          "metadata": {},
          "output_type": "display_data"
        },
        {
          "name": "stdout",
          "output_type": "stream",
          "text": [
            "Starting Spark application\n"
          ]
        },
        {
          "data": {
            "text/html": [
              "<table>\n<tbody><tr><th>ID</th><th>YARN Application ID</th><th>Kind</th><th>State</th><th>Spark UI</th><th>Driver log</th><th>User</th><th>Current session?</th></tr><tr><td>0</td><td>application_1749560769056_0001</td><td>pyspark</td><td>idle</td><td><a target=\"_blank\" href=\"http://ip-172-31-47-110.ec2.internal:20888/proxy/application_1749560769056_0001/\" class=\"emr-proxy-link j-2Z8JR79ZFXFPN application_1749560769056_0001\" emr-resource=\"j-2Z8JR79ZFXFPN\n\" application-id=\"application_1749560769056_0001\">Link</a></td><td><a target=\"_blank\" href=\"http://ip-172-31-47-141.ec2.internal:8042/node/containerlogs/container_1749560769056_0001_01_000001/livy\">Link</a></td><td>None</td><td>✔</td></tr></tbody></table>"
            ],
            "text/plain": [
              "<IPython.core.display.HTML object>"
            ]
          },
          "metadata": {},
          "output_type": "display_data"
        },
        {
          "data": {
            "application/vnd.jupyter.widget-view+json": {
              "model_id": "",
              "version_major": 2,
              "version_minor": 0
            },
            "text/plain": [
              "FloatProgress(value=0.0, bar_style='info', description='Progress:', layout=Layout(height='25px', width='50%'),…"
            ]
          },
          "metadata": {},
          "output_type": "display_data"
        },
        {
          "name": "stdout",
          "output_type": "stream",
          "text": [
            "SparkSession available as 'spark'.\n"
          ]
        },
        {
          "data": {
            "application/vnd.jupyter.widget-view+json": {
              "model_id": "",
              "version_major": 2,
              "version_minor": 0
            },
            "text/plain": [
              "FloatProgress(value=0.0, bar_style='info', description='Progress:', layout=Layout(height='25px', width='50%'),…"
            ]
          },
          "metadata": {},
          "output_type": "display_data"
        }
      ],
      "source": [
        "from pyspark.sql import SparkSession\n",
        "\n",
        "spark = SparkSession.builder.appName(\"ChicagoCrimeDataCleaning\").getOrCreate()\n"
      ]
    },
    {
      "cell_type": "markdown",
      "id": "2249f2fe-e445-4e57-86f9-c274deaca76d",
      "metadata": {
        "id": "2249f2fe-e445-4e57-86f9-c274deaca76d"
      },
      "source": [
        "Reading Data from S3 Bucket"
      ]
    },
    {
      "cell_type": "code",
      "execution_count": null,
      "id": "958a4c58-6d04-4627-88de-0819d85cb4b3",
      "metadata": {
        "execution": {
          "iopub.execute_input": "2025-06-10T13:10:14.038198Z",
          "iopub.status.busy": "2025-06-10T13:10:14.037843Z",
          "iopub.status.idle": "2025-06-10T13:11:07.769326Z",
          "shell.execute_reply": "2025-06-10T13:11:07.768015Z",
          "shell.execute_reply.started": "2025-06-10T13:10:14.038151Z"
        },
        "tags": [],
        "colab": {
          "referenced_widgets": [
            "3078a9c492484ed8a8f4b36e691c358f",
            ""
          ]
        },
        "id": "958a4c58-6d04-4627-88de-0819d85cb4b3",
        "outputId": "76907080-5853-4fa5-e8c8-ba9504246d3d"
      },
      "outputs": [
        {
          "data": {
            "application/vnd.jupyter.widget-view+json": {
              "model_id": "3078a9c492484ed8a8f4b36e691c358f",
              "version_major": 2,
              "version_minor": 0
            },
            "text/plain": [
              "VBox()"
            ]
          },
          "metadata": {},
          "output_type": "display_data"
        },
        {
          "data": {
            "application/vnd.jupyter.widget-view+json": {
              "model_id": "",
              "version_major": 2,
              "version_minor": 0
            },
            "text/plain": [
              "FloatProgress(value=0.0, bar_style='info', description='Progress:', layout=Layout(height='25px', width='50%'),…"
            ]
          },
          "metadata": {},
          "output_type": "display_data"
        },
        {
          "name": "stdout",
          "output_type": "stream",
          "text": [
            "+--------+-----------+--------------------+--------------------+----+------------------+--------------------+--------------------+------+--------+----+--------+----+--------------+--------+------------+------------+----+--------------------+--------+---------+--------+\n",
            "|      ID|Case Number|                Date|               Block|IUCR|      Primary Type|         Description|Location Description|Arrest|Domestic|Beat|District|Ward|Community Area|FBI Code|X Coordinate|Y Coordinate|Year|          Updated On|Latitude|Longitude|Location|\n",
            "+--------+-----------+--------------------+--------------------+----+------------------+--------------------+--------------------+------+--------+----+--------+----+--------------+--------+------------+------------+----+--------------------+--------+---------+--------+\n",
            "|11646166|   JC213529|09/01/2018 12:01:...|082XX S INGLESIDE...|0810|             THEFT|           OVER $500|           RESIDENCE| false|    true| 631|       6|   8|            44|      06|        NULL|        NULL|2018|04/06/2019 04:04:...|    NULL|     NULL|    NULL|\n",
            "|11645836|   JC212333|05/01/2016 12:25:...| 055XX S ROCKWELL ST|1153|DECEPTIVE PRACTICE|FINANCIAL IDENTIT...|                NULL| false|   false| 824|       8|  15|            63|      11|        NULL|        NULL|2016|04/06/2019 04:04:...|    NULL|     NULL|    NULL|\n",
            "|11449702|   JB373031|07/31/2018 01:30:...|009XX E HYDE PARK...|2024|         NARCOTICS| POSS: HEROIN(WHITE)|              STREET|  true|   false| 233|       2|   5|            41|      18|        NULL|        NULL|2018|04/09/2019 04:24:...|    NULL|     NULL|    NULL|\n",
            "|11643334|   JC209972|12/19/2018 04:30:...|056XX W WELLINGTO...|1320|   CRIMINAL DAMAGE|          TO VEHICLE|              STREET| false|   false|2514|      25|  31|            19|      14|        NULL|        NULL|2018|04/04/2019 04:16:...|    NULL|     NULL|    NULL|\n",
            "|11645527|   JC212744|02/02/2015 10:00:...|  069XX W ARCHER AVE|1153|DECEPTIVE PRACTICE|FINANCIAL IDENTIT...|               OTHER| false|   false| 811|       8|  23|            56|      11|        NULL|        NULL|2015|04/06/2019 04:04:...|    NULL|     NULL|    NULL|\n",
            "+--------+-----------+--------------------+--------------------+----+------------------+--------------------+--------------------+------+--------+----+--------+----+--------------+--------+------------+------------+----+--------------------+--------+---------+--------+\n",
            "only showing top 5 rows\n",
            "\n",
            "root\n",
            " |-- ID: integer (nullable = true)\n",
            " |-- Case Number: string (nullable = true)\n",
            " |-- Date: string (nullable = true)\n",
            " |-- Block: string (nullable = true)\n",
            " |-- IUCR: string (nullable = true)\n",
            " |-- Primary Type: string (nullable = true)\n",
            " |-- Description: string (nullable = true)\n",
            " |-- Location Description: string (nullable = true)\n",
            " |-- Arrest: boolean (nullable = true)\n",
            " |-- Domestic: boolean (nullable = true)\n",
            " |-- Beat: integer (nullable = true)\n",
            " |-- District: integer (nullable = true)\n",
            " |-- Ward: integer (nullable = true)\n",
            " |-- Community Area: integer (nullable = true)\n",
            " |-- FBI Code: string (nullable = true)\n",
            " |-- X Coordinate: integer (nullable = true)\n",
            " |-- Y Coordinate: integer (nullable = true)\n",
            " |-- Year: integer (nullable = true)\n",
            " |-- Updated On: string (nullable = true)\n",
            " |-- Latitude: double (nullable = true)\n",
            " |-- Longitude: double (nullable = true)\n",
            " |-- Location: string (nullable = true)"
          ]
        }
      ],
      "source": [
        "# S3 Path\n",
        "s3_path = \"s3://chicago-crimes-bucket-aravindh/chicago_crime_report.csv\"\n",
        "\n",
        "df = spark.read.option(\"header\", \"true\").option(\"inferSchema\", \"true\").csv(s3_path)\n",
        "\n",
        "\n",
        "df.show(5)\n",
        "df.printSchema()\n"
      ]
    },
    {
      "cell_type": "markdown",
      "id": "f539c3d6-bdbc-4163-a0eb-466f0ab58670",
      "metadata": {
        "id": "f539c3d6-bdbc-4163-a0eb-466f0ab58670"
      },
      "source": [
        "Data Cleaning"
      ]
    },
    {
      "cell_type": "code",
      "execution_count": null,
      "id": "84c3ca92-e168-425e-9e1e-eb691bf7d7c8",
      "metadata": {
        "execution": {
          "iopub.execute_input": "2025-06-10T13:11:12.875946Z",
          "iopub.status.busy": "2025-06-10T13:11:12.875672Z",
          "iopub.status.idle": "2025-06-10T13:11:34.287641Z",
          "shell.execute_reply": "2025-06-10T13:11:34.286538Z",
          "shell.execute_reply.started": "2025-06-10T13:11:12.875912Z"
        },
        "tags": [],
        "colab": {
          "referenced_widgets": [
            "3fa360f41ec04e63bb87076610ceef2d",
            ""
          ]
        },
        "id": "84c3ca92-e168-425e-9e1e-eb691bf7d7c8",
        "outputId": "e5d9fdb1-0d9a-43bc-d8aa-a1e50b7dfb38"
      },
      "outputs": [
        {
          "data": {
            "application/vnd.jupyter.widget-view+json": {
              "model_id": "3fa360f41ec04e63bb87076610ceef2d",
              "version_major": 2,
              "version_minor": 0
            },
            "text/plain": [
              "VBox()"
            ]
          },
          "metadata": {},
          "output_type": "display_data"
        },
        {
          "data": {
            "application/vnd.jupyter.widget-view+json": {
              "model_id": "",
              "version_major": 2,
              "version_minor": 0
            },
            "text/plain": [
              "FloatProgress(value=0.0, bar_style='info', description='Progress:', layout=Layout(height='25px', width='50%'),…"
            ]
          },
          "metadata": {},
          "output_type": "display_data"
        },
        {
          "name": "stdout",
          "output_type": "stream",
          "text": [
            "+---+-----------+----+-----+----+------------+-----------+--------------------+------+--------+----+--------+------+--------------+--------+------------+------------+----+----------+--------+---------+--------+\n",
            "|ID |Case Number|Date|Block|IUCR|Primary Type|Description|Location Description|Arrest|Domestic|Beat|District|Ward  |Community Area|FBI Code|X Coordinate|Y Coordinate|Year|Updated On|Latitude|Longitude|Location|\n",
            "+---+-----------+----+-----+----+------------+-----------+--------------------+------+--------+----+--------+------+--------------+--------+------------+------------+----+----------+--------+---------+--------+\n",
            "|0  |4          |0   |0    |0   |0           |0          |10758               |0     |0       |0   |47      |614849|613476        |0       |88111       |88111       |0   |0         |88111   |88111    |88111   |\n",
            "+---+-----------+----+-----+----+------------+-----------+--------------------+------+--------+----+--------+------+--------------+--------+------------+------------+----+----------+--------+---------+--------+"
          ]
        }
      ],
      "source": [
        "from pyspark.sql.functions import col, sum as _sum\n",
        "\n",
        "df.select([_sum(col(c).isNull().cast(\"int\")).alias(c) for c in df.columns]).show(truncate=False)\n"
      ]
    },
    {
      "cell_type": "code",
      "execution_count": null,
      "id": "bee6c4d1-a94a-4174-aa71-1b3689fb7861",
      "metadata": {
        "execution": {
          "iopub.execute_input": "2025-06-10T13:12:30.849668Z",
          "iopub.status.busy": "2025-06-10T13:12:30.849299Z",
          "iopub.status.idle": "2025-06-10T13:12:31.185309Z",
          "shell.execute_reply": "2025-06-10T13:12:31.184230Z",
          "shell.execute_reply.started": "2025-06-10T13:12:30.849618Z"
        },
        "tags": [],
        "colab": {
          "referenced_widgets": [
            "d920262cc98d4f15adca479aa8f5b4af",
            ""
          ]
        },
        "id": "bee6c4d1-a94a-4174-aa71-1b3689fb7861",
        "outputId": "34daa305-b136-404a-8014-c27d712a51a6"
      },
      "outputs": [
        {
          "data": {
            "application/vnd.jupyter.widget-view+json": {
              "model_id": "d920262cc98d4f15adca479aa8f5b4af",
              "version_major": 2,
              "version_minor": 0
            },
            "text/plain": [
              "VBox()"
            ]
          },
          "metadata": {},
          "output_type": "display_data"
        },
        {
          "data": {
            "application/vnd.jupyter.widget-view+json": {
              "model_id": "",
              "version_major": 2,
              "version_minor": 0
            },
            "text/plain": [
              "FloatProgress(value=0.0, bar_style='info', description='Progress:', layout=Layout(height='25px', width='50%'),…"
            ]
          },
          "metadata": {},
          "output_type": "display_data"
        }
      ],
      "source": [
        "from pyspark.sql.functions import to_timestamp, hour, dayofweek, month, col\n",
        "\n",
        "df = df.withColumn(\"Date_ts\", to_timestamp(\"Date\", \"MM/dd/yyyy HH:mm:ss a\"))\n",
        "\n",
        "df = df.withColumn(\"Hour\", hour(col(\"Date_ts\"))) \\\n",
        "       .withColumn(\"DayOfWeek\", dayofweek(col(\"Date_ts\"))) \\\n",
        "       .withColumn(\"Month\", month(col(\"Date_ts\")))\n"
      ]
    },
    {
      "cell_type": "markdown",
      "id": "bd4cae34-a205-4fd8-b77c-1086db28188e",
      "metadata": {
        "id": "bd4cae34-a205-4fd8-b77c-1086db28188e"
      },
      "source": [
        "Keeping the needed columns and removing the unwanted attributes"
      ]
    },
    {
      "cell_type": "code",
      "execution_count": null,
      "id": "5ca6bb55-a187-4511-ad36-5e6cc142303f",
      "metadata": {
        "execution": {
          "iopub.execute_input": "2025-06-10T13:12:33.814641Z",
          "iopub.status.busy": "2025-06-10T13:12:33.814367Z",
          "iopub.status.idle": "2025-06-10T13:12:47.244956Z",
          "shell.execute_reply": "2025-06-10T13:12:47.243827Z",
          "shell.execute_reply.started": "2025-06-10T13:12:33.814608Z"
        },
        "tags": [],
        "colab": {
          "referenced_widgets": [
            "bfb6caa6fad440609809aa2cb233e427",
            ""
          ]
        },
        "id": "5ca6bb55-a187-4511-ad36-5e6cc142303f",
        "outputId": "8e9067a9-1156-4b5e-ad31-575ea643fefe"
      },
      "outputs": [
        {
          "data": {
            "application/vnd.jupyter.widget-view+json": {
              "model_id": "bfb6caa6fad440609809aa2cb233e427",
              "version_major": 2,
              "version_minor": 0
            },
            "text/plain": [
              "VBox()"
            ]
          },
          "metadata": {},
          "output_type": "display_data"
        },
        {
          "data": {
            "application/vnd.jupyter.widget-view+json": {
              "model_id": "",
              "version_major": 2,
              "version_minor": 0
            },
            "text/plain": [
              "FloatProgress(value=0.0, bar_style='info', description='Progress:', layout=Layout(height='25px', width='50%'),…"
            ]
          },
          "metadata": {},
          "output_type": "display_data"
        },
        {
          "name": "stdout",
          "output_type": "stream",
          "text": [
            "+------+--------+--------------+------------------+----+\n",
            "|Arrest|Domestic|community_area|      Primary_Type|Year|\n",
            "+------+--------+--------------+------------------+----+\n",
            "| false|    true|            44|             THEFT|2018|\n",
            "| false|   false|            63|DECEPTIVE PRACTICE|2016|\n",
            "|  true|   false|            41|         NARCOTICS|2018|\n",
            "| false|   false|            19|   CRIMINAL DAMAGE|2018|\n",
            "| false|   false|            56|DECEPTIVE PRACTICE|2015|\n",
            "+------+--------+--------------+------------------+----+\n",
            "only showing top 5 rows"
          ]
        }
      ],
      "source": [
        "# Renaming Community Area to community_area\n",
        "df = df.withColumnRenamed(\"Community Area\", \"community_area\")\n",
        "df = df.withColumnRenamed(\"Primary Type\", \"Primary_Type\")\n",
        "\n",
        "\n",
        "df_ml_ready = df.select([\n",
        "    \"Arrest\",\n",
        "    \"Domestic\",\n",
        "    \"community_area\",\n",
        "    \"Primary_Type\",\n",
        "    \"Year\",\n",
        "])\n",
        "\n",
        "# Dropping rows where community_area is NULL\n",
        "df_ml_ready = df_ml_ready.filter(col(\"community_area\").isNotNull())\n",
        "df_ml_ready = df_ml_ready.filter(col(\"Primary_Type\").isNotNull())\n",
        "\n",
        "df_ml_ready.show(5)\n"
      ]
    },
    {
      "cell_type": "code",
      "execution_count": null,
      "id": "c11aebac-7c50-4f10-88bb-846d4a20d936",
      "metadata": {
        "execution": {
          "iopub.execute_input": "2025-06-10T13:13:09.953632Z",
          "iopub.status.busy": "2025-06-10T13:13:09.953340Z",
          "iopub.status.idle": "2025-06-10T13:13:35.406943Z",
          "shell.execute_reply": "2025-06-10T13:13:35.405610Z",
          "shell.execute_reply.started": "2025-06-10T13:13:09.953583Z"
        },
        "tags": [],
        "colab": {
          "referenced_widgets": [
            "57193d49a95243caad23f0745389ec13",
            ""
          ]
        },
        "id": "c11aebac-7c50-4f10-88bb-846d4a20d936",
        "outputId": "edf9fc42-00c6-4fd1-bf45-43c884f4177f"
      },
      "outputs": [
        {
          "data": {
            "application/vnd.jupyter.widget-view+json": {
              "model_id": "57193d49a95243caad23f0745389ec13",
              "version_major": 2,
              "version_minor": 0
            },
            "text/plain": [
              "VBox()"
            ]
          },
          "metadata": {},
          "output_type": "display_data"
        },
        {
          "data": {
            "application/vnd.jupyter.widget-view+json": {
              "model_id": "",
              "version_major": 2,
              "version_minor": 0
            },
            "text/plain": [
              "FloatProgress(value=0.0, bar_style='info', description='Progress:', layout=Layout(height='25px', width='50%'),…"
            ]
          },
          "metadata": {},
          "output_type": "display_data"
        },
        {
          "name": "stdout",
          "output_type": "stream",
          "text": [
            "+------+--------+--------------+------------+----+\n",
            "|Arrest|Domestic|community_area|Primary_Type|Year|\n",
            "+------+--------+--------------+------------+----+\n",
            "|0     |0       |0             |0           |0   |\n",
            "+------+--------+--------------+------------+----+"
          ]
        }
      ],
      "source": [
        "#Again checking the NULL values before putting into ATHENA\n",
        "\n",
        "df_ml_ready.select([_sum(col(c).isNull().cast(\"int\")).alias(c) for c in df_ml_ready.columns]).show(truncate=False)\n"
      ]
    },
    {
      "cell_type": "markdown",
      "id": "d02bf30b-7205-44d5-9001-b98cffed2062",
      "metadata": {
        "id": "d02bf30b-7205-44d5-9001-b98cffed2062"
      },
      "source": [
        "ATHENA TABLE"
      ]
    },
    {
      "cell_type": "code",
      "execution_count": null,
      "id": "4a2a0ccf-51f7-436f-b952-fedae26303c8",
      "metadata": {
        "execution": {
          "iopub.execute_input": "2025-06-10T13:13:39.162407Z",
          "iopub.status.busy": "2025-06-10T13:13:39.162137Z",
          "iopub.status.idle": "2025-06-10T13:13:39.246758Z",
          "shell.execute_reply": "2025-06-10T13:13:39.245609Z",
          "shell.execute_reply.started": "2025-06-10T13:13:39.162375Z"
        },
        "tags": [],
        "colab": {
          "referenced_widgets": [
            "50787612707b465b8bfa9d9d9d73a629",
            ""
          ]
        },
        "id": "4a2a0ccf-51f7-436f-b952-fedae26303c8",
        "outputId": "0ff35d3a-a00f-4d30-f6e4-b4c535350021"
      },
      "outputs": [
        {
          "data": {
            "application/vnd.jupyter.widget-view+json": {
              "model_id": "50787612707b465b8bfa9d9d9d73a629",
              "version_major": 2,
              "version_minor": 0
            },
            "text/plain": [
              "VBox()"
            ]
          },
          "metadata": {},
          "output_type": "display_data"
        },
        {
          "data": {
            "application/vnd.jupyter.widget-view+json": {
              "model_id": "",
              "version_major": 2,
              "version_minor": 0
            },
            "text/plain": [
              "FloatProgress(value=0.0, bar_style='info', description='Progress:', layout=Layout(height='25px', width='50%'),…"
            ]
          },
          "metadata": {},
          "output_type": "display_data"
        }
      ],
      "source": [
        "import sys"
      ]
    },
    {
      "cell_type": "code",
      "execution_count": null,
      "id": "33b0d48f-591c-4819-b458-a749c20e4101",
      "metadata": {
        "execution": {
          "iopub.execute_input": "2025-06-10T13:13:42.411125Z",
          "iopub.status.busy": "2025-06-10T13:13:42.410872Z",
          "iopub.status.idle": "2025-06-10T13:13:59.810024Z",
          "shell.execute_reply": "2025-06-10T13:13:59.808896Z",
          "shell.execute_reply.started": "2025-06-10T13:13:42.411093Z"
        },
        "tags": [],
        "colab": {
          "referenced_widgets": [
            "4d541c746a324c14b470842d55fada64",
            ""
          ]
        },
        "id": "33b0d48f-591c-4819-b458-a749c20e4101",
        "outputId": "81c4d734-da52-46cd-84f2-8ccf041ae12a"
      },
      "outputs": [
        {
          "data": {
            "application/vnd.jupyter.widget-view+json": {
              "model_id": "4d541c746a324c14b470842d55fada64",
              "version_major": 2,
              "version_minor": 0
            },
            "text/plain": [
              "VBox()"
            ]
          },
          "metadata": {},
          "output_type": "display_data"
        },
        {
          "data": {
            "application/vnd.jupyter.widget-view+json": {
              "model_id": "",
              "version_major": 2,
              "version_minor": 0
            },
            "text/plain": [
              "FloatProgress(value=0.0, bar_style='info', description='Progress:', layout=Layout(height='25px', width='50%'),…"
            ]
          },
          "metadata": {},
          "output_type": "display_data"
        },
        {
          "name": "stdout",
          "output_type": "stream",
          "text": [
            "Requirement already satisfied: pandas in /usr/local/lib64/python3.9/site-packages (2.2.3)\n",
            "Collecting numpy>=1.22.4\n",
            "  Downloading numpy-2.0.2-cp39-cp39-manylinux_2_17_x86_64.manylinux2014_x86_64.whl (19.5 MB)\n",
            "Collecting python-dateutil>=2.8.2\n",
            "  Downloading python_dateutil-2.9.0.post0-py2.py3-none-any.whl (229 kB)\n",
            "Collecting tzdata>=2022.7\n",
            "  Downloading tzdata-2025.2-py2.py3-none-any.whl (347 kB)\n",
            "Requirement already satisfied: pytz>=2020.1 in /usr/local/lib/python3.9/site-packages (from pandas) (2025.2)\n",
            "Requirement already satisfied: six>=1.5 in /usr/local/lib/python3.9/site-packages (from python-dateutil>=2.8.2->pandas) (1.13.0)\n",
            "Installing collected packages: tzdata, python-dateutil, numpy\n",
            "  Attempting uninstall: python-dateutil\n",
            "    Found existing installation: python-dateutil 2.8.1\n",
            "    Not uninstalling python-dateutil at /usr/lib/python3.9/site-packages, outside environment /mnt/yarn/usercache/livy/appcache/application_1749560769056_0001/container_1749560769056_0001_01_000001/tmp/spark-74825be9-f4b8-4eea-947c-daf9221032ac\n",
            "    Can't uninstall 'python-dateutil'. No files were found to uninstall.\n",
            "Successfully installed numpy-2.0.2 python-dateutil-2.9.0.post0 tzdata-2025.2\n",
            "\n",
            "Requirement already satisfied: boto3 in /usr/local/lib/python3.9/site-packages (1.38.12)\n",
            "Requirement already satisfied: botocore<1.39.0,>=1.38.12 in /usr/local/lib64/python3.9/site-packages (from boto3) (1.38.12)\n",
            "Requirement already satisfied: jmespath<2.0.0,>=0.7.1 in /usr/local/lib/python3.9/site-packages (from boto3) (1.0.1)\n",
            "Requirement already satisfied: s3transfer<0.13.0,>=0.12.0 in /usr/local/lib64/python3.9/site-packages (from boto3) (0.12.0)\n",
            "Requirement already satisfied: python-dateutil<3.0.0,>=2.1 in ./tmp/spark-74825be9-f4b8-4eea-947c-daf9221032ac/lib/python3.9/site-packages (from botocore<1.39.0,>=1.38.12->boto3) (2.9.0.post0)\n",
            "Requirement already satisfied: urllib3<1.27,>=1.25.4 in /usr/lib/python3.9/site-packages (from botocore<1.39.0,>=1.38.12->boto3) (1.25.10)\n",
            "Requirement already satisfied: six>=1.5 in /usr/local/lib/python3.9/site-packages (from python-dateutil<3.0.0,>=2.1->botocore<1.39.0,>=1.38.12->boto3) (1.13.0)\n",
            "\n",
            "WARNING: The directory '/home/.cache/pip' or its parent directory is not owned or is not writable by the current user. The cache has been disabled. Check the permissions and owner of that directory. If executing pip with sudo, you should use sudo's -H flag.\n",
            "ERROR: pip's dependency resolver does not currently take into account all the packages that are installed. This behaviour is the source of the following dependency conflicts.\n",
            "matplotlib 3.9.4 requires contourpy>=1.0.1, which is not installed.\n",
            "matplotlib 3.9.4 requires cycler>=0.10, which is not installed.\n",
            "matplotlib 3.9.4 requires fonttools>=4.22.0, which is not installed.\n",
            "matplotlib 3.9.4 requires importlib-resources>=3.2.0; python_version < \"3.10\", which is not installed.\n",
            "matplotlib 3.9.4 requires kiwisolver>=1.3.1, which is not installed.\n",
            "matplotlib 3.9.4 requires pillow>=8, which is not installed.\n",
            "awscli 2.23.11 requires python-dateutil<=2.9.0,>=2.1, but you have python-dateutil 2.9.0.post0 which is incompatible.\n",
            "\n",
            "WARNING: The directory '/home/.cache/pip' or its parent directory is not owned or is not writable by the current user. The cache has been disabled. Check the permissions and owner of that directory. If executing pip with sudo, you should use sudo's -H flag."
          ]
        }
      ],
      "source": [
        "sc.install_pypi_package(\"pandas\")\n",
        "sc.install_pypi_package(\"boto3\")"
      ]
    },
    {
      "cell_type": "code",
      "execution_count": null,
      "id": "82404123-c69d-41ba-afc8-ed158f59ec0d",
      "metadata": {
        "execution": {
          "iopub.execute_input": "2025-06-10T13:14:08.574529Z",
          "iopub.status.busy": "2025-06-10T13:14:08.574253Z",
          "iopub.status.idle": "2025-06-10T13:14:23.951271Z",
          "shell.execute_reply": "2025-06-10T13:14:23.949943Z",
          "shell.execute_reply.started": "2025-06-10T13:14:08.574495Z"
        },
        "tags": [],
        "colab": {
          "referenced_widgets": [
            "296f70f15b1143eeb6a1d757fe360319",
            ""
          ]
        },
        "id": "82404123-c69d-41ba-afc8-ed158f59ec0d",
        "outputId": "f47cb74f-b343-4662-b1c3-a37160a43325"
      },
      "outputs": [
        {
          "data": {
            "application/vnd.jupyter.widget-view+json": {
              "model_id": "296f70f15b1143eeb6a1d757fe360319",
              "version_major": 2,
              "version_minor": 0
            },
            "text/plain": [
              "VBox()"
            ]
          },
          "metadata": {},
          "output_type": "display_data"
        },
        {
          "data": {
            "application/vnd.jupyter.widget-view+json": {
              "model_id": "",
              "version_major": 2,
              "version_minor": 0
            },
            "text/plain": [
              "FloatProgress(value=0.0, bar_style='info', description='Progress:', layout=Layout(height='25px', width='50%'),…"
            ]
          },
          "metadata": {},
          "output_type": "display_data"
        }
      ],
      "source": [
        "import pandas as pd\n",
        "import boto3"
      ]
    },
    {
      "cell_type": "code",
      "execution_count": null,
      "id": "f7f5c01b-ad25-42ff-b1ab-b93bbb6f4d8a",
      "metadata": {
        "execution": {
          "iopub.execute_input": "2025-06-10T13:15:08.702895Z",
          "iopub.status.busy": "2025-06-10T13:15:08.702587Z",
          "iopub.status.idle": "2025-06-10T13:15:08.793874Z",
          "shell.execute_reply": "2025-06-10T13:15:08.792700Z",
          "shell.execute_reply.started": "2025-06-10T13:15:08.702856Z"
        },
        "tags": [],
        "colab": {
          "referenced_widgets": [
            "c29c3a7743e6425dac6c376d304dfff0",
            ""
          ]
        },
        "id": "f7f5c01b-ad25-42ff-b1ab-b93bbb6f4d8a",
        "outputId": "081ed34c-2d59-468b-fe26-772ed9ca3724"
      },
      "outputs": [
        {
          "data": {
            "application/vnd.jupyter.widget-view+json": {
              "model_id": "c29c3a7743e6425dac6c376d304dfff0",
              "version_major": 2,
              "version_minor": 0
            },
            "text/plain": [
              "VBox()"
            ]
          },
          "metadata": {},
          "output_type": "display_data"
        },
        {
          "data": {
            "application/vnd.jupyter.widget-view+json": {
              "model_id": "",
              "version_major": 2,
              "version_minor": 0
            },
            "text/plain": [
              "FloatProgress(value=0.0, bar_style='info', description='Progress:', layout=Layout(height='25px', width='50%'),…"
            ]
          },
          "metadata": {},
          "output_type": "display_data"
        }
      ],
      "source": [
        "#AWS Configuration\n",
        "\n",
        "AWS_REGION = \"us-east-1\"\n",
        "S3_BUCKET_NAME = \"chicago-crimes-bucket-aravindh\"\n",
        "# Athena configuration\n",
        "DATABASE_NAME = 'default'\n",
        "TABLE_NAME = 'crime_table'\n",
        "\n"
      ]
    },
    {
      "cell_type": "code",
      "execution_count": null,
      "id": "2f20da56-c6d1-4f78-81ea-d1e4734244e2",
      "metadata": {
        "execution": {
          "iopub.execute_input": "2025-06-10T13:22:30.602924Z",
          "iopub.status.busy": "2025-06-10T13:22:30.602649Z",
          "iopub.status.idle": "2025-06-10T13:22:30.708466Z",
          "shell.execute_reply": "2025-06-10T13:22:30.706784Z",
          "shell.execute_reply.started": "2025-06-10T13:22:30.602891Z"
        },
        "tags": [],
        "colab": {
          "referenced_widgets": [
            "6564470669c147938c73aa729ae3ba75",
            ""
          ]
        },
        "id": "2f20da56-c6d1-4f78-81ea-d1e4734244e2",
        "outputId": "eb00197f-6d79-41c0-bf9f-875a56232929"
      },
      "outputs": [
        {
          "data": {
            "application/vnd.jupyter.widget-view+json": {
              "model_id": "6564470669c147938c73aa729ae3ba75",
              "version_major": 2,
              "version_minor": 0
            },
            "text/plain": [
              "VBox()"
            ]
          },
          "metadata": {},
          "output_type": "display_data"
        },
        {
          "data": {
            "application/vnd.jupyter.widget-view+json": {
              "model_id": "",
              "version_major": 2,
              "version_minor": 0
            },
            "text/plain": [
              "FloatProgress(value=0.0, bar_style='info', description='Progress:', layout=Layout(height='25px', width='50%'),…"
            ]
          },
          "metadata": {},
          "output_type": "display_data"
        }
      ],
      "source": [
        "athena_client = boto3.client('athena',\n",
        "    aws_access_key_id='',\n",
        "    aws_secret_access_key='',\n",
        "    aws_session_token= ''"
      ]
    },
    {
      "cell_type": "code",
      "execution_count": null,
      "id": "886b859c-05df-4c86-ac7a-35fbb092a03c",
      "metadata": {
        "execution": {
          "iopub.execute_input": "2025-06-10T13:22:32.912452Z",
          "iopub.status.busy": "2025-06-10T13:22:32.912179Z",
          "iopub.status.idle": "2025-06-10T13:22:33.001680Z",
          "shell.execute_reply": "2025-06-10T13:22:32.997275Z",
          "shell.execute_reply.started": "2025-06-10T13:22:32.912419Z"
        },
        "tags": [],
        "colab": {
          "referenced_widgets": [
            "eba06df50dca4d70a20c7c8d38410b8a",
            ""
          ]
        },
        "id": "886b859c-05df-4c86-ac7a-35fbb092a03c",
        "outputId": "4d184a2d-ebc2-4e48-c22d-506e05441a56"
      },
      "outputs": [
        {
          "data": {
            "application/vnd.jupyter.widget-view+json": {
              "model_id": "eba06df50dca4d70a20c7c8d38410b8a",
              "version_major": 2,
              "version_minor": 0
            },
            "text/plain": [
              "VBox()"
            ]
          },
          "metadata": {},
          "output_type": "display_data"
        },
        {
          "data": {
            "application/vnd.jupyter.widget-view+json": {
              "model_id": "",
              "version_major": 2,
              "version_minor": 0
            },
            "text/plain": [
              "FloatProgress(value=0.0, bar_style='info', description='Progress:', layout=Layout(height='25px', width='50%'),…"
            ]
          },
          "metadata": {},
          "output_type": "display_data"
        },
        {
          "name": "stdout",
          "output_type": "stream",
          "text": [
            "root\n",
            " |-- Arrest: boolean (nullable = true)\n",
            " |-- Domestic: boolean (nullable = true)\n",
            " |-- community_area: integer (nullable = true)\n",
            " |-- Primary_Type: string (nullable = true)\n",
            " |-- Year: integer (nullable = true)"
          ]
        }
      ],
      "source": [
        "df_ml_ready.printSchema()"
      ]
    },
    {
      "cell_type": "code",
      "execution_count": null,
      "id": "73459941-d2de-4d35-ac5d-3b8b7f6888d6",
      "metadata": {
        "execution": {
          "iopub.execute_input": "2025-06-10T13:22:33.739507Z",
          "iopub.status.busy": "2025-06-10T13:22:33.739131Z",
          "iopub.status.idle": "2025-06-10T13:22:33.806801Z",
          "shell.execute_reply": "2025-06-10T13:22:33.805447Z",
          "shell.execute_reply.started": "2025-06-10T13:22:33.739472Z"
        },
        "tags": [],
        "colab": {
          "referenced_widgets": [
            "075db77a6c08401e950f26664057850a",
            ""
          ]
        },
        "id": "73459941-d2de-4d35-ac5d-3b8b7f6888d6",
        "outputId": "fa9e9cba-c757-4054-9586-40c00185d13b"
      },
      "outputs": [
        {
          "data": {
            "application/vnd.jupyter.widget-view+json": {
              "model_id": "075db77a6c08401e950f26664057850a",
              "version_major": 2,
              "version_minor": 0
            },
            "text/plain": [
              "VBox()"
            ]
          },
          "metadata": {},
          "output_type": "display_data"
        },
        {
          "data": {
            "application/vnd.jupyter.widget-view+json": {
              "model_id": "",
              "version_major": 2,
              "version_minor": 0
            },
            "text/plain": [
              "FloatProgress(value=0.0, bar_style='info', description='Progress:', layout=Layout(height='25px', width='50%'),…"
            ]
          },
          "metadata": {},
          "output_type": "display_data"
        },
        {
          "name": "stdout",
          "output_type": "stream",
          "text": [
            "CREATE EXTERNAL TABLE IF NOT EXISTS default.crime_table (\n",
            "    Arrest BOOLEAN,\n",
            "    Domestic BOOLEAN,\n",
            "    community_area INT,\n",
            "    Primary_Type STRING,\n",
            "    Year INT\n",
            ")\n",
            "ROW FORMAT DELIMITED\n",
            "FIELDS TERMINATED BY ','\n",
            "LOCATION 's3://chicago-crimes-bucket-aravindh/athena/'"
          ]
        }
      ],
      "source": [
        "create_table_query = f\"\"\"\n",
        "CREATE EXTERNAL TABLE IF NOT EXISTS {DATABASE_NAME}.{TABLE_NAME} (\n",
        "    Arrest BOOLEAN,\n",
        "    Domestic BOOLEAN,\n",
        "    community_area INT,\n",
        "    Primary_Type STRING,\n",
        "    Year INT\n",
        ")\n",
        "ROW FORMAT DELIMITED\n",
        "FIELDS TERMINATED BY ','\n",
        "LOCATION 's3://{S3_BUCKET_NAME}/athena/'\n",
        "\"\"\"\n",
        "print(create_table_query.strip())"
      ]
    },
    {
      "cell_type": "code",
      "execution_count": null,
      "id": "72e03542-56cf-4716-9f7f-76c8f5ac266e",
      "metadata": {
        "execution": {
          "iopub.execute_input": "2025-06-10T13:22:36.100487Z",
          "iopub.status.busy": "2025-06-10T13:22:36.100224Z",
          "iopub.status.idle": "2025-06-10T13:22:36.386833Z",
          "shell.execute_reply": "2025-06-10T13:22:36.385431Z",
          "shell.execute_reply.started": "2025-06-10T13:22:36.100454Z"
        },
        "tags": [],
        "colab": {
          "referenced_widgets": [
            "03e6ad429b834df494bec77b65125ae2",
            ""
          ]
        },
        "id": "72e03542-56cf-4716-9f7f-76c8f5ac266e",
        "outputId": "4c24142f-b21c-4ffa-ad29-8f1217da3a64"
      },
      "outputs": [
        {
          "data": {
            "application/vnd.jupyter.widget-view+json": {
              "model_id": "03e6ad429b834df494bec77b65125ae2",
              "version_major": 2,
              "version_minor": 0
            },
            "text/plain": [
              "VBox()"
            ]
          },
          "metadata": {},
          "output_type": "display_data"
        },
        {
          "data": {
            "application/vnd.jupyter.widget-view+json": {
              "model_id": "",
              "version_major": 2,
              "version_minor": 0
            },
            "text/plain": [
              "FloatProgress(value=0.0, bar_style='info', description='Progress:', layout=Layout(height='25px', width='50%'),…"
            ]
          },
          "metadata": {},
          "output_type": "display_data"
        },
        {
          "name": "stdout",
          "output_type": "stream",
          "text": [
            "Athena table created"
          ]
        }
      ],
      "source": [
        "response = athena_client.start_query_execution(\n",
        "    QueryString=create_table_query.strip(),\n",
        "    QueryExecutionContext={'Database': DATABASE_NAME},\n",
        "    ResultConfiguration={'OutputLocation': f's3://{S3_BUCKET_NAME}/athena-outputs/'}\n",
        ")\n",
        "\n",
        "print(\"Athena table created\")"
      ]
    },
    {
      "cell_type": "code",
      "execution_count": null,
      "id": "873375ce-6716-4277-b581-d27f95297c8a",
      "metadata": {
        "execution": {
          "iopub.execute_input": "2025-06-10T13:22:39.972503Z",
          "iopub.status.busy": "2025-06-10T13:22:39.972229Z",
          "iopub.status.idle": "2025-06-10T13:22:40.076765Z",
          "shell.execute_reply": "2025-06-10T13:22:40.075562Z",
          "shell.execute_reply.started": "2025-06-10T13:22:39.972470Z"
        },
        "tags": [],
        "colab": {
          "referenced_widgets": [
            "70116c1989fe40718fe0f3d2c76ddddd",
            ""
          ]
        },
        "id": "873375ce-6716-4277-b581-d27f95297c8a",
        "outputId": "65a82c05-9b3a-4221-ffe1-abeac4265d26"
      },
      "outputs": [
        {
          "data": {
            "application/vnd.jupyter.widget-view+json": {
              "model_id": "70116c1989fe40718fe0f3d2c76ddddd",
              "version_major": 2,
              "version_minor": 0
            },
            "text/plain": [
              "VBox()"
            ]
          },
          "metadata": {},
          "output_type": "display_data"
        },
        {
          "data": {
            "application/vnd.jupyter.widget-view+json": {
              "model_id": "",
              "version_major": 2,
              "version_minor": 0
            },
            "text/plain": [
              "FloatProgress(value=0.0, bar_style='info', description='Progress:', layout=Layout(height='25px', width='50%'),…"
            ]
          },
          "metadata": {},
          "output_type": "display_data"
        }
      ],
      "source": [
        "import time\n",
        "\n",
        "# Initializing Athena client\n",
        "# athena_client = boto3.client('athena')\n",
        "\n",
        "# Function to run Athena query\n",
        "def run_athena_query(query, database, output_location):\n",
        "    response = athena_client.start_query_execution(\n",
        "        QueryString=query,\n",
        "        QueryExecutionContext={\n",
        "            'Database': database\n",
        "        },\n",
        "        ResultConfiguration={\n",
        "            'OutputLocation': output_location\n",
        "        }\n",
        "    )\n",
        "    return response['QueryExecutionId']\n",
        "\n",
        "# Function to check query status\n",
        "def check_query_status(query_execution_id):\n",
        "    while True:\n",
        "        response = athena_client.get_query_execution(QueryExecutionId=query_execution_id)\n",
        "        status = response['QueryExecution']['Status']['State']\n",
        "        if status == 'SUCCEEDED':\n",
        "            print(\"Query succeeded!\")\n",
        "            break\n",
        "        elif status in ['FAILED', 'CANCELLED']:\n",
        "            print(f\"Query {status.lower()}.\")\n",
        "            raise Exception(f\"Query failed or was cancelled: {response}\")\n",
        "        time.sleep(2)\n",
        "\n",
        "\n",
        "def get_query_results_as_dataframe(query_execution_id):\n",
        "\n",
        "    results_paginator = athena_client.get_paginator('get_query_results')\n",
        "    results_iter = results_paginator.paginate(QueryExecutionId=query_execution_id)\n",
        "\n",
        "    columns = []\n",
        "    rows = []\n",
        "\n",
        "    for results_page in results_iter:\n",
        "        # Get column info from the first page\n",
        "        if not columns:\n",
        "            columns = [col['Label'] for col in results_page['ResultSet']['ResultSetMetadata']['ColumnInfo']]\n",
        "\n",
        "        for row in results_page['ResultSet']['Rows'][1:]:\n",
        "            rows.append([col.get('VarCharValue', None) for col in row['Data']])\n",
        "\n",
        "    df = pd.DataFrame(rows, columns=columns)\n",
        "    return df\n"
      ]
    },
    {
      "cell_type": "code",
      "execution_count": null,
      "id": "1b831a5b-826e-40bc-9fd6-0420fa305fe0",
      "metadata": {
        "execution": {
          "iopub.execute_input": "2025-06-10T13:22:42.739545Z",
          "iopub.status.busy": "2025-06-10T13:22:42.739255Z",
          "iopub.status.idle": "2025-06-10T13:22:45.045202Z",
          "shell.execute_reply": "2025-06-10T13:22:45.043896Z",
          "shell.execute_reply.started": "2025-06-10T13:22:42.739512Z"
        },
        "tags": [],
        "colab": {
          "referenced_widgets": [
            "8ccd052a879b4f03baaf29c1c84e64ad",
            ""
          ]
        },
        "id": "1b831a5b-826e-40bc-9fd6-0420fa305fe0",
        "outputId": "bae3efd9-834c-4297-b91c-11ff5d0ac48b"
      },
      "outputs": [
        {
          "data": {
            "application/vnd.jupyter.widget-view+json": {
              "model_id": "8ccd052a879b4f03baaf29c1c84e64ad",
              "version_major": 2,
              "version_minor": 0
            },
            "text/plain": [
              "VBox()"
            ]
          },
          "metadata": {},
          "output_type": "display_data"
        },
        {
          "data": {
            "application/vnd.jupyter.widget-view+json": {
              "model_id": "",
              "version_major": 2,
              "version_minor": 0
            },
            "text/plain": [
              "FloatProgress(value=0.0, bar_style='info', description='Progress:', layout=Layout(height='25px', width='50%'),…"
            ]
          },
          "metadata": {},
          "output_type": "display_data"
        },
        {
          "name": "stdout",
          "output_type": "stream",
          "text": [
            "Query succeeded!"
          ]
        }
      ],
      "source": [
        "query = f'SELECT * FROM \"default\".\"{TABLE_NAME}\" limit 10;'\n",
        "database = 'default'\n",
        "output_location = f's3://{S3_BUCKET_NAME}/athena-outputs/'  # Change to your S3 bucket\n",
        "\n",
        "query_execution_id = run_athena_query(query, database, output_location)\n",
        "\n",
        "# Checking the status of the query\n",
        "check_query_status(query_execution_id)\n",
        "\n",
        "# Fetch the results as a pandas DataFrame\n",
        "df = get_query_results_as_dataframe(query_execution_id)"
      ]
    },
    {
      "cell_type": "markdown",
      "id": "f58aa933-3207-48ac-9a29-99d053661cb0",
      "metadata": {
        "id": "f58aa933-3207-48ac-9a29-99d053661cb0"
      },
      "source": [
        "Transformed Date into S3 bucket"
      ]
    },
    {
      "cell_type": "code",
      "execution_count": null,
      "id": "c51a0960-4db2-4faf-942e-e64073f87b98",
      "metadata": {
        "execution": {
          "iopub.execute_input": "2025-06-10T13:22:46.776276Z",
          "iopub.status.busy": "2025-06-10T13:22:46.775962Z",
          "iopub.status.idle": "2025-06-10T13:23:22.274395Z",
          "shell.execute_reply": "2025-06-10T13:23:22.273154Z",
          "shell.execute_reply.started": "2025-06-10T13:22:46.776202Z"
        },
        "tags": [],
        "colab": {
          "referenced_widgets": [
            "55f2991b67cc4fe5a5cb2438f9762ae2",
            ""
          ]
        },
        "id": "c51a0960-4db2-4faf-942e-e64073f87b98",
        "outputId": "374b9b19-91ad-45e3-bcd6-bf31d5ea6d6d"
      },
      "outputs": [
        {
          "data": {
            "application/vnd.jupyter.widget-view+json": {
              "model_id": "55f2991b67cc4fe5a5cb2438f9762ae2",
              "version_major": 2,
              "version_minor": 0
            },
            "text/plain": [
              "VBox()"
            ]
          },
          "metadata": {},
          "output_type": "display_data"
        },
        {
          "data": {
            "application/vnd.jupyter.widget-view+json": {
              "model_id": "",
              "version_major": 2,
              "version_minor": 0
            },
            "text/plain": [
              "FloatProgress(value=0.0, bar_style='info', description='Progress:', layout=Layout(height='25px', width='50%'),…"
            ]
          },
          "metadata": {},
          "output_type": "display_data"
        }
      ],
      "source": [
        "df_ml_ready.write.csv(\"s3://chicago-crimes-bucket-aravindh/athena_cleaned_data/\", header=True, mode=\"overwrite\")"
      ]
    },
    {
      "cell_type": "markdown",
      "id": "4401bca7-c5d7-4077-a8b1-0eefca18fb08",
      "metadata": {
        "id": "4401bca7-c5d7-4077-a8b1-0eefca18fb08"
      },
      "source": [
        "Data Mining and Exploration"
      ]
    },
    {
      "cell_type": "code",
      "execution_count": null,
      "id": "7ab8b75f-a44c-4861-93f8-967a34637e8f",
      "metadata": {
        "execution": {
          "iopub.execute_input": "2025-06-10T13:23:55.605488Z",
          "iopub.status.busy": "2025-06-10T13:23:55.605102Z",
          "iopub.status.idle": "2025-06-10T13:24:33.080340Z",
          "shell.execute_reply": "2025-06-10T13:24:33.079120Z",
          "shell.execute_reply.started": "2025-06-10T13:23:55.605453Z"
        },
        "tags": [],
        "colab": {
          "referenced_widgets": [
            "406c6b94f4fd4d8fbaea74e29913bd4e",
            ""
          ]
        },
        "id": "7ab8b75f-a44c-4861-93f8-967a34637e8f",
        "outputId": "c419cb3e-0ec4-4404-ec66-017c21547bfe"
      },
      "outputs": [
        {
          "data": {
            "application/vnd.jupyter.widget-view+json": {
              "model_id": "406c6b94f4fd4d8fbaea74e29913bd4e",
              "version_major": 2,
              "version_minor": 0
            },
            "text/plain": [
              "VBox()"
            ]
          },
          "metadata": {},
          "output_type": "display_data"
        },
        {
          "data": {
            "application/vnd.jupyter.widget-view+json": {
              "model_id": "",
              "version_major": 2,
              "version_minor": 0
            },
            "text/plain": [
              "FloatProgress(value=0.0, bar_style='info', description='Progress:', layout=Layout(height='25px', width='50%'),…"
            ]
          },
          "metadata": {},
          "output_type": "display_data"
        },
        {
          "name": "stdout",
          "output_type": "stream",
          "text": [
            "Crimes per Year:\n",
            "+----+------+\n",
            "|Year| count|\n",
            "+----+------+\n",
            "|2001|  6280|\n",
            "|2002|354168|\n",
            "|2003|475935|\n",
            "|2004|469355|\n",
            "|2005|453718|\n",
            "|2006|448129|\n",
            "|2007|436929|\n",
            "|2008|426926|\n",
            "|2009|392606|\n",
            "|2010|370320|\n",
            "|2011|351794|\n",
            "|2012|336247|\n",
            "|2013|307474|\n",
            "|2014|275745|\n",
            "|2015|264775|\n",
            "|2016|269808|\n",
            "|2017|269092|\n",
            "|2018|268811|\n",
            "|2019|261290|\n",
            "|2020|212169|\n",
            "+----+------+\n",
            "only showing top 20 rows\n",
            "\n",
            "Arrest Rate by Primary_Type:\n",
            "+---------------------------------+-------------------+\n",
            "|Primary_Type                     |Arrest_Rate        |\n",
            "+---------------------------------+-------------------+\n",
            "|PROSTITUTION                     |0.9956192816268469 |\n",
            "|NARCOTICS                        |0.9933199889644809 |\n",
            "|GAMBLING                         |0.9922945839816255 |\n",
            "|LIQUOR LAW VIOLATION             |0.9898724391186703 |\n",
            "|PUBLIC INDECENCY                 |0.9891304347826086 |\n",
            "|CONCEALED CARRY LICENSE VIOLATION|0.9642537980339589 |\n",
            "|INTERFERENCE WITH PUBLIC OFFICER |0.9220945083014048 |\n",
            "|OBSCENITY                        |0.7751552795031056 |\n",
            "|WEAPONS VIOLATION                |0.7335298566801777 |\n",
            "|CRIMINAL TRESPASS                |0.692279738350965  |\n",
            "|OTHER NARCOTIC VIOLATION         |0.6571428571428571 |\n",
            "|PUBLIC PEACE VIOLATION           |0.6492531238552648 |\n",
            "|HOMICIDE                         |0.46711485501376965|\n",
            "|NON-CRIMINAL (SUBJECT SPECIFIED) |0.3333333333333333 |\n",
            "|SEX OFFENSE                      |0.25871939868638266|\n",
            "|BATTERY                          |0.21931003022181672|\n",
            "|ASSAULT                          |0.20976114107625007|\n",
            "|OFFENSE INVOLVING CHILDREN       |0.18901791206128496|\n",
            "|OTHER OFFENSE                    |0.1751473764863301 |\n",
            "|NON - CRIMINAL                   |0.15789473684210525|\n",
            "+---------------------------------+-------------------+\n",
            "only showing top 20 rows\n",
            "\n",
            "Crimes by community_area:\n",
            "+--------------+------+\n",
            "|community_area| count|\n",
            "+--------------+------+\n",
            "|            25|451472|\n",
            "|             8|255293|\n",
            "|            43|238536|\n",
            "|            23|225583|\n",
            "|            28|219389|\n",
            "|            24|212092|\n",
            "|            29|211696|\n",
            "|            67|206251|\n",
            "|            71|204800|\n",
            "|            49|192026|\n",
            "|            68|188421|\n",
            "|            69|179846|\n",
            "|            32|179701|\n",
            "|            66|175697|\n",
            "|            44|159492|\n",
            "|            22|149509|\n",
            "|             6|146383|\n",
            "|            61|145468|\n",
            "|            26|136503|\n",
            "|            27|135322|\n",
            "+--------------+------+\n",
            "only showing top 20 rows\n",
            "\n",
            "Top 10 Primary_Type crimes:\n",
            "+-------------------+-------+\n",
            "|Primary_Type       |count  |\n",
            "+-------------------+-------+\n",
            "|THEFT              |1533472|\n",
            "|BATTERY            |1315275|\n",
            "|CRIMINAL DAMAGE    |822949 |\n",
            "|NARCOTICS          |681436 |\n",
            "|ASSAULT            |472957 |\n",
            "|OTHER OFFENSE      |447663 |\n",
            "|BURGLARY           |393555 |\n",
            "|MOTOR VEHICLE THEFT|349502 |\n",
            "|DECEPTIVE PRACTICE |331583 |\n",
            "|ROBBERY            |271338 |\n",
            "+-------------------+-------+\n",
            "only showing top 10 rows"
          ]
        }
      ],
      "source": [
        "from pyspark.sql.functions import avg, col\n",
        "\n",
        "print(\"Crimes per Year:\")\n",
        "df_ml_ready.groupBy(\"Year\").count().orderBy(\"Year\").show()\n",
        "\n",
        "print(\"Arrest Rate by Primary_Type:\")\n",
        "df_ml_ready.groupBy(\"Primary_Type\") \\\n",
        "    .agg(avg(col(\"Arrest\").cast(\"int\")).alias(\"Arrest_Rate\")) \\\n",
        "    .orderBy(col(\"Arrest_Rate\").desc()) \\\n",
        "    .show(20, truncate=False)\n",
        "\n",
        "print(\"Crimes by community_area:\")\n",
        "df_ml_ready.groupBy(\"community_area\").count() \\\n",
        "    .orderBy(col(\"count\").desc()) \\\n",
        "    .show(20)\n",
        "\n",
        "print(\"Top 10 Primary_Type crimes:\")\n",
        "df_ml_ready.groupBy(\"Primary_Type\").count() \\\n",
        "    .orderBy(col(\"count\").desc()) \\\n",
        "    .show(10, truncate=False)\n"
      ]
    },
    {
      "cell_type": "markdown",
      "id": "519740b5-ba0a-49a0-a00f-de597d1de6fa",
      "metadata": {
        "execution": {
          "iopub.execute_input": "2025-06-09T23:54:41.583413Z",
          "iopub.status.busy": "2025-06-09T23:54:41.583066Z",
          "iopub.status.idle": "2025-06-09T23:54:41.656803Z",
          "shell.execute_reply": "2025-06-09T23:54:41.655207Z",
          "shell.execute_reply.started": "2025-06-09T23:54:41.583379Z"
        },
        "id": "519740b5-ba0a-49a0-a00f-de597d1de6fa"
      },
      "source": [
        "MLib"
      ]
    },
    {
      "cell_type": "code",
      "execution_count": null,
      "id": "4f866311-2771-4d5e-8815-4a39cbda5cdc",
      "metadata": {
        "execution": {
          "iopub.execute_input": "2025-06-10T13:24:47.245891Z",
          "iopub.status.busy": "2025-06-10T13:24:47.245565Z",
          "iopub.status.idle": "2025-06-10T13:24:48.042568Z",
          "shell.execute_reply": "2025-06-10T13:24:48.041324Z",
          "shell.execute_reply.started": "2025-06-10T13:24:47.245844Z"
        },
        "tags": [],
        "colab": {
          "referenced_widgets": [
            "b0649d39625e4056b551c9bbb112997c",
            ""
          ]
        },
        "id": "4f866311-2771-4d5e-8815-4a39cbda5cdc",
        "outputId": "5da3e6b4-f9d1-424b-c2e4-29e9938fdfe1"
      },
      "outputs": [
        {
          "data": {
            "application/vnd.jupyter.widget-view+json": {
              "model_id": "b0649d39625e4056b551c9bbb112997c",
              "version_major": 2,
              "version_minor": 0
            },
            "text/plain": [
              "VBox()"
            ]
          },
          "metadata": {},
          "output_type": "display_data"
        },
        {
          "data": {
            "application/vnd.jupyter.widget-view+json": {
              "model_id": "",
              "version_major": 2,
              "version_minor": 0
            },
            "text/plain": [
              "FloatProgress(value=0.0, bar_style='info', description='Progress:', layout=Layout(height='25px', width='50%'),…"
            ]
          },
          "metadata": {},
          "output_type": "display_data"
        }
      ],
      "source": [
        "from pyspark.ml.feature import StringIndexer, VectorAssembler\n"
      ]
    },
    {
      "cell_type": "markdown",
      "id": "ace7d663-3d85-4ed5-9fbe-b58c76eb6701",
      "metadata": {
        "id": "ace7d663-3d85-4ed5-9fbe-b58c76eb6701"
      },
      "source": [
        "Encoding Primary Type"
      ]
    },
    {
      "cell_type": "code",
      "execution_count": null,
      "id": "b50bf21b-97ef-4a6b-bea4-db5e2c21a970",
      "metadata": {
        "execution": {
          "iopub.execute_input": "2025-06-10T13:24:49.635674Z",
          "iopub.status.busy": "2025-06-10T13:24:49.635145Z",
          "iopub.status.idle": "2025-06-10T13:25:07.015168Z",
          "shell.execute_reply": "2025-06-10T13:25:07.014011Z",
          "shell.execute_reply.started": "2025-06-10T13:24:49.635640Z"
        },
        "tags": [],
        "colab": {
          "referenced_widgets": [
            "2f046490080c45af8811c2d820f836f6",
            ""
          ]
        },
        "id": "b50bf21b-97ef-4a6b-bea4-db5e2c21a970",
        "outputId": "0aa96e3c-6376-4f78-c8ed-0577de0eef06"
      },
      "outputs": [
        {
          "data": {
            "application/vnd.jupyter.widget-view+json": {
              "model_id": "2f046490080c45af8811c2d820f836f6",
              "version_major": 2,
              "version_minor": 0
            },
            "text/plain": [
              "VBox()"
            ]
          },
          "metadata": {},
          "output_type": "display_data"
        },
        {
          "data": {
            "application/vnd.jupyter.widget-view+json": {
              "model_id": "",
              "version_major": 2,
              "version_minor": 0
            },
            "text/plain": [
              "FloatProgress(value=0.0, bar_style='info', description='Progress:', layout=Layout(height='25px', width='50%'),…"
            ]
          },
          "metadata": {},
          "output_type": "display_data"
        },
        {
          "name": "stdout",
          "output_type": "stream",
          "text": [
            "+------------------+------------------+\n",
            "|      Primary_Type|Primary_Type_index|\n",
            "+------------------+------------------+\n",
            "|             THEFT|               0.0|\n",
            "|DECEPTIVE PRACTICE|               8.0|\n",
            "|         NARCOTICS|               3.0|\n",
            "|   CRIMINAL DAMAGE|               2.0|\n",
            "|DECEPTIVE PRACTICE|               8.0|\n",
            "+------------------+------------------+\n",
            "only showing top 5 rows"
          ]
        }
      ],
      "source": [
        "# StringIndexer for Primary_Type\n",
        "primary_type_indexer = StringIndexer(inputCol=\"Primary_Type\", outputCol=\"Primary_Type_index\")\n",
        "\n",
        "df_ml_ready_indexed = primary_type_indexer.fit(df_ml_ready).transform(df_ml_ready)\n",
        "\n",
        "df_ml_ready_indexed.select(\"Primary_Type\", \"Primary_Type_index\").show(5)\n"
      ]
    },
    {
      "cell_type": "markdown",
      "id": "fbb94c20-1f53-44a2-a8be-53414ad1d153",
      "metadata": {
        "id": "fbb94c20-1f53-44a2-a8be-53414ad1d153"
      },
      "source": [
        "Combining all the feature columns into one column using Vector Assembler"
      ]
    },
    {
      "cell_type": "code",
      "execution_count": null,
      "id": "80cf714a-1b52-497e-b3c7-35bd781e5f23",
      "metadata": {
        "execution": {
          "iopub.execute_input": "2025-06-10T13:27:05.704338Z",
          "iopub.status.busy": "2025-06-10T13:27:05.703977Z",
          "iopub.status.idle": "2025-06-10T13:27:21.080988Z",
          "shell.execute_reply": "2025-06-10T13:27:21.079878Z",
          "shell.execute_reply.started": "2025-06-10T13:27:05.704304Z"
        },
        "tags": [],
        "colab": {
          "referenced_widgets": [
            "d10188658493401bb96af4de1d522044",
            ""
          ]
        },
        "id": "80cf714a-1b52-497e-b3c7-35bd781e5f23",
        "outputId": "3da8954c-ef92-49bb-9fc7-a9f6a6ded525"
      },
      "outputs": [
        {
          "data": {
            "application/vnd.jupyter.widget-view+json": {
              "model_id": "d10188658493401bb96af4de1d522044",
              "version_major": 2,
              "version_minor": 0
            },
            "text/plain": [
              "VBox()"
            ]
          },
          "metadata": {},
          "output_type": "display_data"
        },
        {
          "data": {
            "application/vnd.jupyter.widget-view+json": {
              "model_id": "",
              "version_major": 2,
              "version_minor": 0
            },
            "text/plain": [
              "FloatProgress(value=0.0, bar_style='info', description='Progress:', layout=Layout(height='25px', width='50%'),…"
            ]
          },
          "metadata": {},
          "output_type": "display_data"
        },
        {
          "name": "stdout",
          "output_type": "stream",
          "text": [
            "+---------------------+------+\n",
            "|features             |Arrest|\n",
            "+---------------------+------+\n",
            "|[1.0,44.0,2018.0,0.0]|false |\n",
            "|[0.0,63.0,2016.0,8.0]|false |\n",
            "|[0.0,41.0,2018.0,3.0]|true  |\n",
            "|[0.0,19.0,2018.0,2.0]|false |\n",
            "|[0.0,56.0,2015.0,8.0]|false |\n",
            "+---------------------+------+\n",
            "only showing top 5 rows"
          ]
        }
      ],
      "source": [
        "assembler = VectorAssembler(\n",
        "    inputCols=[\"Domestic\", \"community_area\", \"Year\", \"Primary_Type_index\"],  # NOTE: these are in \"quotes\"\n",
        "    outputCol=\"features\"\n",
        ")\n",
        "\n",
        "df_final = assembler.transform(df_ml_ready_indexed)\n",
        "\n",
        "df_final.select(\"features\", \"Arrest\").show(5, truncate=False)\n"
      ]
    },
    {
      "cell_type": "code",
      "execution_count": null,
      "id": "ffff78b4-033c-42b8-bd05-aa17cecff245",
      "metadata": {
        "execution": {
          "iopub.execute_input": "2025-06-10T13:27:29.204218Z",
          "iopub.status.busy": "2025-06-10T13:27:29.203945Z",
          "iopub.status.idle": "2025-06-10T13:28:02.651545Z",
          "shell.execute_reply": "2025-06-10T13:28:02.650439Z",
          "shell.execute_reply.started": "2025-06-10T13:27:29.204185Z"
        },
        "tags": [],
        "colab": {
          "referenced_widgets": [
            "f382075d32684fd0b9b21b045b8a2c33",
            ""
          ]
        },
        "id": "ffff78b4-033c-42b8-bd05-aa17cecff245",
        "outputId": "63024e25-c5a6-4a13-b1ea-57b7b2beaea9"
      },
      "outputs": [
        {
          "data": {
            "application/vnd.jupyter.widget-view+json": {
              "model_id": "f382075d32684fd0b9b21b045b8a2c33",
              "version_major": 2,
              "version_minor": 0
            },
            "text/plain": [
              "VBox()"
            ]
          },
          "metadata": {},
          "output_type": "display_data"
        },
        {
          "data": {
            "application/vnd.jupyter.widget-view+json": {
              "model_id": "",
              "version_major": 2,
              "version_minor": 0
            },
            "text/plain": [
              "FloatProgress(value=0.0, bar_style='info', description='Progress:', layout=Layout(height='25px', width='50%'),…"
            ]
          },
          "metadata": {},
          "output_type": "display_data"
        }
      ],
      "source": [
        "from pyspark.sql.functions import col\n",
        "\n",
        "# Cast Arrest to int\n",
        "df_final = df_final.withColumn(\"Arrest_int\", col(\"Arrest\").cast(\"int\"))\n",
        "\n",
        "# running StringIndexer on Arrest_int\n",
        "arrest_indexer = StringIndexer(inputCol=\"Arrest_int\", outputCol=\"label\")\n",
        "df_final_indexed = arrest_indexer.fit(df_final).transform(df_final)"
      ]
    },
    {
      "cell_type": "code",
      "execution_count": null,
      "id": "17c5eae8-42b2-4bc6-8105-685097aa220d",
      "metadata": {
        "execution": {
          "iopub.execute_input": "2025-06-10T13:28:06.614396Z",
          "iopub.status.busy": "2025-06-10T13:28:06.614121Z",
          "iopub.status.idle": "2025-06-10T13:28:07.941235Z",
          "shell.execute_reply": "2025-06-10T13:28:07.939901Z",
          "shell.execute_reply.started": "2025-06-10T13:28:06.614363Z"
        },
        "tags": [],
        "colab": {
          "referenced_widgets": [
            "dac8a65396854c1ba09ad8a51aeacfae",
            ""
          ]
        },
        "id": "17c5eae8-42b2-4bc6-8105-685097aa220d",
        "outputId": "71fba454-cfaa-4b09-c52e-156734158f85"
      },
      "outputs": [
        {
          "data": {
            "application/vnd.jupyter.widget-view+json": {
              "model_id": "dac8a65396854c1ba09ad8a51aeacfae",
              "version_major": 2,
              "version_minor": 0
            },
            "text/plain": [
              "VBox()"
            ]
          },
          "metadata": {},
          "output_type": "display_data"
        },
        {
          "data": {
            "application/vnd.jupyter.widget-view+json": {
              "model_id": "",
              "version_major": 2,
              "version_minor": 0
            },
            "text/plain": [
              "FloatProgress(value=0.0, bar_style='info', description='Progress:', layout=Layout(height='25px', width='50%'),…"
            ]
          },
          "metadata": {},
          "output_type": "display_data"
        },
        {
          "name": "stdout",
          "output_type": "stream",
          "text": [
            "+------+----------+-----+\n",
            "|Arrest|Arrest_int|label|\n",
            "+------+----------+-----+\n",
            "| false|         0|  0.0|\n",
            "| false|         0|  0.0|\n",
            "|  true|         1|  1.0|\n",
            "| false|         0|  0.0|\n",
            "| false|         0|  0.0|\n",
            "+------+----------+-----+\n",
            "only showing top 5 rows"
          ]
        }
      ],
      "source": [
        "df_final_indexed.select(\"Arrest\", \"Arrest_int\", \"label\").show(5)"
      ]
    },
    {
      "cell_type": "markdown",
      "id": "201f884e-034f-4d66-bbbb-98026aa06236",
      "metadata": {
        "id": "201f884e-034f-4d66-bbbb-98026aa06236"
      },
      "source": [
        "* Arrest -> true -> 1\n",
        "* Arrest -> False ->0"
      ]
    },
    {
      "cell_type": "code",
      "execution_count": null,
      "id": "d0ad10c6-aab6-4b68-a731-18610e214d88",
      "metadata": {
        "execution": {
          "iopub.execute_input": "2025-06-10T13:28:12.561146Z",
          "iopub.status.busy": "2025-06-10T13:28:12.560779Z",
          "iopub.status.idle": "2025-06-10T13:28:12.649626Z",
          "shell.execute_reply": "2025-06-10T13:28:12.648241Z",
          "shell.execute_reply.started": "2025-06-10T13:28:12.561079Z"
        },
        "tags": [],
        "colab": {
          "referenced_widgets": [
            "1c07a4af57814dd0a46aaeda2b6f71a1",
            ""
          ]
        },
        "id": "d0ad10c6-aab6-4b68-a731-18610e214d88",
        "outputId": "c187dc3b-0561-460d-90e3-d7c4267664b9"
      },
      "outputs": [
        {
          "data": {
            "application/vnd.jupyter.widget-view+json": {
              "model_id": "1c07a4af57814dd0a46aaeda2b6f71a1",
              "version_major": 2,
              "version_minor": 0
            },
            "text/plain": [
              "VBox()"
            ]
          },
          "metadata": {},
          "output_type": "display_data"
        },
        {
          "data": {
            "application/vnd.jupyter.widget-view+json": {
              "model_id": "",
              "version_major": 2,
              "version_minor": 0
            },
            "text/plain": [
              "FloatProgress(value=0.0, bar_style='info', description='Progress:', layout=Layout(height='25px', width='50%'),…"
            ]
          },
          "metadata": {},
          "output_type": "display_data"
        }
      ],
      "source": [
        "from pyspark.ml.classification import LogisticRegression, DecisionTreeClassifier\n",
        "from pyspark.ml.evaluation import BinaryClassificationEvaluator\n"
      ]
    },
    {
      "cell_type": "markdown",
      "id": "e01758dc-153a-498d-a53b-9378211baea5",
      "metadata": {
        "id": "e01758dc-153a-498d-a53b-9378211baea5"
      },
      "source": [
        "Logistic Regression"
      ]
    },
    {
      "cell_type": "code",
      "execution_count": null,
      "id": "5000d941-3a7f-4e43-89a0-dba403155374",
      "metadata": {
        "execution": {
          "iopub.execute_input": "2025-06-10T13:28:16.044793Z",
          "iopub.status.busy": "2025-06-10T13:28:16.044522Z",
          "iopub.status.idle": "2025-06-10T13:29:23.633065Z",
          "shell.execute_reply": "2025-06-10T13:29:23.631899Z",
          "shell.execute_reply.started": "2025-06-10T13:28:16.044761Z"
        },
        "tags": [],
        "colab": {
          "referenced_widgets": [
            "00ac7b2ca4a94e04b62d3ee0699230cd",
            ""
          ]
        },
        "id": "5000d941-3a7f-4e43-89a0-dba403155374",
        "outputId": "528f8fff-e18d-4fb1-ea27-c231ddf88f33"
      },
      "outputs": [
        {
          "data": {
            "application/vnd.jupyter.widget-view+json": {
              "model_id": "00ac7b2ca4a94e04b62d3ee0699230cd",
              "version_major": 2,
              "version_minor": 0
            },
            "text/plain": [
              "VBox()"
            ]
          },
          "metadata": {},
          "output_type": "display_data"
        },
        {
          "data": {
            "application/vnd.jupyter.widget-view+json": {
              "model_id": "",
              "version_major": 2,
              "version_minor": 0
            },
            "text/plain": [
              "FloatProgress(value=0.0, bar_style='info', description='Progress:', layout=Layout(height='25px', width='50%'),…"
            ]
          },
          "metadata": {},
          "output_type": "display_data"
        },
        {
          "name": "stdout",
          "output_type": "stream",
          "text": [
            "+--------------------+------+----------+----------------------------------------+\n",
            "|features            |Arrest|prediction|probability                             |\n",
            "+--------------------+------+----------+----------------------------------------+\n",
            "|[0.0,0.0,2005.0,1.0]|false |0.0       |[0.7322425797573185,0.26775742024268145]|\n",
            "|[0.0,0.0,2003.0,8.0]|false |0.0       |[0.588638868560601,0.411361131439399]   |\n",
            "|[0.0,0.0,2010.0,8.0]|false |0.0       |[0.6619857724006845,0.33801422759931554]|\n",
            "|(4,[2],[2008.0])    |false |0.0       |[0.772105903437215,0.22789409656278503] |\n",
            "|[0.0,1.0,2002.0,4.0]|false |0.0       |[0.6531104666820509,0.34688953331794914]|\n",
            "+--------------------+------+----------+----------------------------------------+\n",
            "only showing top 5 rows\n",
            "\n",
            "Test AUC: 0.6212"
          ]
        }
      ],
      "source": [
        "# Splitting data into train/test\n",
        "train_data, test_data = df_final_indexed.randomSplit([0.8, 0.2], seed=42)\n",
        "\n",
        "#Logistic Regression\n",
        "lr = LogisticRegression(featuresCol=\"features\", labelCol=\"label\", maxIter=10)\n",
        "\n",
        "lr_model = lr.fit(train_data)\n",
        "\n",
        "# Predict on test data\n",
        "predictions = lr_model.transform(test_data)\n",
        "\n",
        "predictions.select(\"features\", \"Arrest\", \"prediction\", \"probability\").show(5, truncate=False)\n",
        "\n",
        "# Evaluating model\n",
        "evaluator = BinaryClassificationEvaluator(labelCol=\"label\")\n",
        "auc = evaluator.evaluate(predictions)\n",
        "print(f\"Test AUC: {auc:.4f}\")\n"
      ]
    },
    {
      "cell_type": "markdown",
      "id": "e41a52a3-b306-43ef-9276-4ca6a8859f08",
      "metadata": {
        "id": "e41a52a3-b306-43ef-9276-4ca6a8859f08"
      },
      "source": [
        "I used Logistic Regression to predict the probability of arrest, and evaluated the model using AUC(Area Under Curve). The AUC of 0.62 indicates that the model can capture some patterns."
      ]
    },
    {
      "cell_type": "markdown",
      "id": "4c667871-7218-4c50-9286-1a2e7ded6574",
      "metadata": {
        "id": "4c667871-7218-4c50-9286-1a2e7ded6574"
      },
      "source": [
        "Decision Tree Classifier:"
      ]
    },
    {
      "cell_type": "code",
      "execution_count": null,
      "id": "a41c2fcf-7e90-4c40-a6d7-a31dd03a71fc",
      "metadata": {
        "execution": {
          "iopub.execute_input": "2025-06-10T13:29:47.285086Z",
          "iopub.status.busy": "2025-06-10T13:29:47.284811Z",
          "iopub.status.idle": "2025-06-10T13:30:58.950090Z",
          "shell.execute_reply": "2025-06-10T13:30:58.948782Z",
          "shell.execute_reply.started": "2025-06-10T13:29:47.285053Z"
        },
        "tags": [],
        "colab": {
          "referenced_widgets": [
            "d1b1e3d4197f46e4a314791f3b8326e3",
            ""
          ]
        },
        "id": "a41c2fcf-7e90-4c40-a6d7-a31dd03a71fc",
        "outputId": "7dfe5fab-02c9-45ed-b237-746427760e8f"
      },
      "outputs": [
        {
          "data": {
            "application/vnd.jupyter.widget-view+json": {
              "model_id": "d1b1e3d4197f46e4a314791f3b8326e3",
              "version_major": 2,
              "version_minor": 0
            },
            "text/plain": [
              "VBox()"
            ]
          },
          "metadata": {},
          "output_type": "display_data"
        },
        {
          "data": {
            "application/vnd.jupyter.widget-view+json": {
              "model_id": "",
              "version_major": 2,
              "version_minor": 0
            },
            "text/plain": [
              "FloatProgress(value=0.0, bar_style='info', description='Progress:', layout=Layout(height='25px', width='50%'),…"
            ]
          },
          "metadata": {},
          "output_type": "display_data"
        },
        {
          "name": "stdout",
          "output_type": "stream",
          "text": [
            "+--------------------+------+----------+----------------------------------------+\n",
            "|features            |Arrest|prediction|probability                             |\n",
            "+--------------------+------+----------+----------------------------------------+\n",
            "|[0.0,0.0,2005.0,1.0]|false |0.0       |[0.8408258999964462,0.15917410000355378]|\n",
            "|[0.0,0.0,2003.0,8.0]|false |0.0       |[0.9095011282434888,0.0904988717565112] |\n",
            "|[0.0,0.0,2010.0,8.0]|false |0.0       |[0.9095011282434888,0.0904988717565112] |\n",
            "|(4,[2],[2008.0])    |false |0.0       |[0.8408258999964462,0.15917410000355378]|\n",
            "|[0.0,1.0,2002.0,4.0]|false |0.0       |[0.8070414102370896,0.19295858976291042]|\n",
            "+--------------------+------+----------+----------------------------------------+\n",
            "only showing top 5 rows\n",
            "\n",
            "Decision Tree Test AUC: 0.6092"
          ]
        }
      ],
      "source": [
        "# Initializing the Decision Tree\n",
        "dt = DecisionTreeClassifier(featuresCol=\"features\", labelCol=\"label\", maxDepth=5, maxBins=50)\n",
        "\n",
        "dt_model = dt.fit(train_data)\n",
        "\n",
        "dt_predictions = dt_model.transform(test_data)\n",
        "\n",
        "dt_predictions.select(\"features\", \"Arrest\", \"prediction\", \"probability\").show(5, truncate=False)\n",
        "\n",
        "# Evaluating d model\n",
        "dt_evaluator = BinaryClassificationEvaluator(labelCol=\"label\")\n",
        "dt_auc = dt_evaluator.evaluate(dt_predictions)\n",
        "print(f\"Decision Tree Test AUC: {dt_auc:.4f}\")\n"
      ]
    },
    {
      "cell_type": "markdown",
      "id": "2d7b87cb-15db-4ea4-a485-49309297af7c",
      "metadata": {
        "id": "2d7b87cb-15db-4ea4-a485-49309297af7c"
      },
      "source": [
        "As we can see from the above AUC, The decision tree is just 60.92 % and its little low when compared to Logistic regression prediction."
      ]
    },
    {
      "cell_type": "code",
      "execution_count": null,
      "id": "da4b754e-f54b-49cc-b3e3-434299d0b9b1",
      "metadata": {
        "execution": {
          "iopub.execute_input": "2025-06-10T13:31:41.250868Z",
          "iopub.status.busy": "2025-06-10T13:31:41.250575Z",
          "iopub.status.idle": "2025-06-10T13:32:02.640969Z",
          "shell.execute_reply": "2025-06-10T13:32:02.639743Z",
          "shell.execute_reply.started": "2025-06-10T13:31:41.250830Z"
        },
        "tags": [],
        "colab": {
          "referenced_widgets": [
            "488dd5fdd6594fe89b0a12240ae5fe9e",
            ""
          ]
        },
        "id": "da4b754e-f54b-49cc-b3e3-434299d0b9b1",
        "outputId": "7ed13386-bd11-4841-f4e3-c6b801b9f834"
      },
      "outputs": [
        {
          "data": {
            "application/vnd.jupyter.widget-view+json": {
              "model_id": "488dd5fdd6594fe89b0a12240ae5fe9e",
              "version_major": 2,
              "version_minor": 0
            },
            "text/plain": [
              "VBox()"
            ]
          },
          "metadata": {},
          "output_type": "display_data"
        },
        {
          "data": {
            "application/vnd.jupyter.widget-view+json": {
              "model_id": "",
              "version_major": 2,
              "version_minor": 0
            },
            "text/plain": [
              "FloatProgress(value=0.0, bar_style='info', description='Progress:', layout=Layout(height='25px', width='50%'),…"
            ]
          },
          "metadata": {},
          "output_type": "display_data"
        },
        {
          "name": "stdout",
          "output_type": "stream",
          "text": [
            "Requirement already satisfied: matplotlib in /usr/local/lib64/python3.9/site-packages (3.9.4)\n",
            "Collecting importlib-resources>=3.2.0\n",
            "  Downloading importlib_resources-6.5.2-py3-none-any.whl (37 kB)\n",
            "Collecting pillow>=8\n",
            "  Downloading pillow-11.2.1-cp39-cp39-manylinux_2_28_x86_64.whl (4.6 MB)\n",
            "Collecting kiwisolver>=1.3.1\n",
            "  Downloading kiwisolver-1.4.7-cp39-cp39-manylinux_2_12_x86_64.manylinux2010_x86_64.whl (1.6 MB)\n",
            "Requirement already satisfied: packaging>=20.0 in /usr/lib/python3.9/site-packages (from matplotlib) (21.3)\n",
            "Collecting cycler>=0.10\n",
            "  Downloading cycler-0.12.1-py3-none-any.whl (8.3 kB)\n",
            "Requirement already satisfied: pyparsing>=2.3.1 in /usr/lib/python3.9/site-packages (from matplotlib) (2.4.7)\n",
            "Collecting contourpy>=1.0.1\n",
            "  Downloading contourpy-1.3.0-cp39-cp39-manylinux_2_17_x86_64.manylinux2014_x86_64.whl (321 kB)\n",
            "Requirement already satisfied: numpy>=1.23 in ./tmp/spark-74825be9-f4b8-4eea-947c-daf9221032ac/lib64/python3.9/site-packages (from matplotlib) (2.0.2)\n",
            "Requirement already satisfied: python-dateutil>=2.7 in ./tmp/spark-74825be9-f4b8-4eea-947c-daf9221032ac/lib/python3.9/site-packages (from matplotlib) (2.9.0.post0)\n",
            "Collecting fonttools>=4.22.0\n",
            "  Downloading fonttools-4.58.2-cp39-cp39-manylinux_2_17_x86_64.manylinux2014_x86_64.whl (4.7 MB)\n",
            "Collecting zipp>=3.1.0\n",
            "  Downloading zipp-3.23.0-py3-none-any.whl (10 kB)\n",
            "Requirement already satisfied: six>=1.5 in /usr/local/lib/python3.9/site-packages (from python-dateutil>=2.7->matplotlib) (1.13.0)\n",
            "Installing collected packages: zipp, pillow, kiwisolver, importlib-resources, fonttools, cycler, contourpy\n",
            "Successfully installed contourpy-1.3.0 cycler-0.12.1 fonttools-4.58.2 importlib-resources-6.5.2 kiwisolver-1.4.7 pillow-11.2.1 zipp-3.23.0\n",
            "\n",
            "WARNING: The directory '/home/.cache/pip' or its parent directory is not owned or is not writable by the current user. The cache has been disabled. Check the permissions and owner of that directory. If executing pip with sudo, you should use sudo's -H flag."
          ]
        }
      ],
      "source": [
        "sc.install_pypi_package(\"matplotlib\")\n",
        "\n",
        "\n"
      ]
    },
    {
      "cell_type": "code",
      "execution_count": null,
      "id": "a3eddd1a-fb10-4857-bdfa-a22f7e066184",
      "metadata": {
        "execution": {
          "iopub.execute_input": "2025-06-10T13:32:07.907082Z",
          "iopub.status.busy": "2025-06-10T13:32:07.906807Z",
          "iopub.status.idle": "2025-06-10T13:32:11.215772Z",
          "shell.execute_reply": "2025-06-10T13:32:11.214642Z",
          "shell.execute_reply.started": "2025-06-10T13:32:07.907048Z"
        },
        "tags": [],
        "colab": {
          "referenced_widgets": [
            "3aa954f356f346e6936cd340de24704c",
            ""
          ]
        },
        "id": "a3eddd1a-fb10-4857-bdfa-a22f7e066184",
        "outputId": "fa7eb6ad-071f-4064-a51b-e15b8514b703"
      },
      "outputs": [
        {
          "data": {
            "application/vnd.jupyter.widget-view+json": {
              "model_id": "3aa954f356f346e6936cd340de24704c",
              "version_major": 2,
              "version_minor": 0
            },
            "text/plain": [
              "VBox()"
            ]
          },
          "metadata": {},
          "output_type": "display_data"
        },
        {
          "data": {
            "application/vnd.jupyter.widget-view+json": {
              "model_id": "",
              "version_major": 2,
              "version_minor": 0
            },
            "text/plain": [
              "FloatProgress(value=0.0, bar_style='info', description='Progress:', layout=Layout(height='25px', width='50%'),…"
            ]
          },
          "metadata": {},
          "output_type": "display_data"
        },
        {
          "name": "stdout",
          "output_type": "stream",
          "text": [
            "Collecting python-dateutil==2.8.2\n",
            "  Downloading python_dateutil-2.8.2-py2.py3-none-any.whl (247 kB)\n",
            "Requirement already satisfied: six>=1.5 in /usr/local/lib/python3.9/site-packages (from python-dateutil==2.8.2) (1.13.0)\n",
            "Installing collected packages: python-dateutil\n",
            "  Attempting uninstall: python-dateutil\n",
            "    Found existing installation: python-dateutil 2.9.0.post0\n",
            "    Uninstalling python-dateutil-2.9.0.post0:\n",
            "      Successfully uninstalled python-dateutil-2.9.0.post0\n",
            "Successfully installed python-dateutil-2.8.2\n",
            "\n",
            "WARNING: The directory '/home/.cache/pip' or its parent directory is not owned or is not writable by the current user. The cache has been disabled. Check the permissions and owner of that directory. If executing pip with sudo, you should use sudo's -H flag."
          ]
        }
      ],
      "source": [
        "sc.install_pypi_package(\"python-dateutil==2.8.2\")"
      ]
    },
    {
      "cell_type": "code",
      "execution_count": null,
      "id": "e496fbbc-feef-4da8-b55b-e2e9410b1488",
      "metadata": {
        "execution": {
          "iopub.execute_input": "2025-06-10T13:32:13.958804Z",
          "iopub.status.busy": "2025-06-10T13:32:13.958422Z",
          "iopub.status.idle": "2025-06-10T13:32:19.338311Z",
          "shell.execute_reply": "2025-06-10T13:32:19.337264Z",
          "shell.execute_reply.started": "2025-06-10T13:32:13.958752Z"
        },
        "tags": [],
        "colab": {
          "referenced_widgets": [
            "76872dca7d2f4552afebb367172105a0",
            ""
          ]
        },
        "id": "e496fbbc-feef-4da8-b55b-e2e9410b1488",
        "outputId": "0a0940bf-6d12-41be-b176-a8ccc285cf3a"
      },
      "outputs": [
        {
          "data": {
            "application/vnd.jupyter.widget-view+json": {
              "model_id": "76872dca7d2f4552afebb367172105a0",
              "version_major": 2,
              "version_minor": 0
            },
            "text/plain": [
              "VBox()"
            ]
          },
          "metadata": {},
          "output_type": "display_data"
        },
        {
          "data": {
            "application/vnd.jupyter.widget-view+json": {
              "model_id": "",
              "version_major": 2,
              "version_minor": 0
            },
            "text/plain": [
              "FloatProgress(value=0.0, bar_style='info', description='Progress:', layout=Layout(height='25px', width='50%'),…"
            ]
          },
          "metadata": {},
          "output_type": "display_data"
        },
        {
          "data": {
            "image/png": "[encoded data removed]",
            "text/plain": [
              "<IPython.core.display.Image object>"
            ]
          },
          "metadata": {},
          "output_type": "display_data"
        }
      ],
      "source": [
        "import matplotlib.pyplot as plt\n",
        "%matplot plt\n",
        "\n"
      ]
    },
    {
      "cell_type": "code",
      "execution_count": null,
      "id": "4338f7c5-cbd9-49dc-9e9c-0fb0a92c2bf3",
      "metadata": {
        "execution": {
          "iopub.execute_input": "2025-06-10T13:44:38.920491Z",
          "iopub.status.busy": "2025-06-10T13:44:38.920216Z",
          "iopub.status.idle": "2025-06-10T13:45:06.320681Z",
          "shell.execute_reply": "2025-06-10T13:45:06.319218Z",
          "shell.execute_reply.started": "2025-06-10T13:44:38.920458Z"
        },
        "tags": [],
        "colab": {
          "referenced_widgets": [
            "f732ddf2d9b944e890cb27e74321208a",
            ""
          ]
        },
        "id": "4338f7c5-cbd9-49dc-9e9c-0fb0a92c2bf3",
        "outputId": "3f5e6cf7-0917-4a6b-8c9d-892086eef5ab"
      },
      "outputs": [
        {
          "data": {
            "application/vnd.jupyter.widget-view+json": {
              "model_id": "f732ddf2d9b944e890cb27e74321208a",
              "version_major": 2,
              "version_minor": 0
            },
            "text/plain": [
              "VBox()"
            ]
          },
          "metadata": {},
          "output_type": "display_data"
        },
        {
          "data": {
            "application/vnd.jupyter.widget-view+json": {
              "model_id": "",
              "version_major": 2,
              "version_minor": 0
            },
            "text/plain": [
              "FloatProgress(value=0.0, bar_style='info', description='Progress:', layout=Layout(height='25px', width='50%'),…"
            ]
          },
          "metadata": {},
          "output_type": "display_data"
        }
      ],
      "source": [
        "df_arrest_rate = df_ml_ready.groupBy(\"Primary_Type\") \\\n",
        "    .agg(avg(col(\"Arrest\").cast(\"int\")).alias(\"Arrest_Rate\")) \\\n",
        "    .orderBy(col(\"Arrest_Rate\").desc()) \\\n",
        "    .limit(10) \\\n",
        "    .toPandas()\n"
      ]
    },
    {
      "cell_type": "code",
      "execution_count": null,
      "id": "b1db3963-6a78-4b3e-bb95-caa193fe4e5f",
      "metadata": {
        "execution": {
          "iopub.execute_input": "2025-06-10T13:45:21.375952Z",
          "iopub.status.busy": "2025-06-10T13:45:21.375618Z",
          "iopub.status.idle": "2025-06-10T13:45:21.450213Z",
          "shell.execute_reply": "2025-06-10T13:45:21.449097Z",
          "shell.execute_reply.started": "2025-06-10T13:45:21.375918Z"
        },
        "colab": {
          "referenced_widgets": [
            "a42b86c418604a2d9699de1bf2bbba74",
            ""
          ]
        },
        "id": "b1db3963-6a78-4b3e-bb95-caa193fe4e5f",
        "outputId": "24689e8a-143b-40de-9ad7-79c268941e16"
      },
      "outputs": [
        {
          "data": {
            "application/vnd.jupyter.widget-view+json": {
              "model_id": "a42b86c418604a2d9699de1bf2bbba74",
              "version_major": 2,
              "version_minor": 0
            },
            "text/plain": [
              "VBox()"
            ]
          },
          "metadata": {},
          "output_type": "display_data"
        },
        {
          "data": {
            "application/vnd.jupyter.widget-view+json": {
              "model_id": "",
              "version_major": 2,
              "version_minor": 0
            },
            "text/plain": [
              "FloatProgress(value=0.0, bar_style='info', description='Progress:', layout=Layout(height='25px', width='50%'),…"
            ]
          },
          "metadata": {},
          "output_type": "display_data"
        }
      ],
      "source": [
        "import matplotlib.pyplot as plt\n",
        "import pandas as pd\n",
        "import boto3\n",
        "import io\n",
        "from pyspark.sql.functions import col, avg, count, desc\n",
        "\n",
        "# Setting up matplotlib for EMR\n",
        "plt.style.use('default')\n",
        "plt.rcParams['figure.figsize'] = (12, 8)\n",
        "plt.rcParams['font.size'] = 10\n",
        "\n",
        "# AWS S3 Configuration\n",
        "S3_BUCKET = \"chicago-crimes-bucket-aravindh\"\n",
        "S3_PLOTS_PREFIX = \"plots/\"\n",
        "\n",
        "def save_plot_to_s3(plt, filename, bucket=S3_BUCKET):\n",
        "    \"\"\"Save matplotlib plot to S3 bucket\"\"\"\n",
        "    img_data = io.BytesIO()\n",
        "    plt.savefig(img_data, format='png', dpi=300, bbox_inches='tight')\n",
        "    img_data.seek(0)\n",
        "\n",
        "    s3_client = boto3.client('s3')\n",
        "    s3_client.put_object(\n",
        "        Body=img_data,\n",
        "        Bucket=bucket,\n",
        "        Key=f\"{S3_PLOTS_PREFIX}{filename}\",\n",
        "        ContentType='image/png'\n",
        "    )\n",
        "    print(f\"Plot saved to s3://{bucket}/{S3_PLOTS_PREFIX}{filename}\")"
      ]
    },
    {
      "cell_type": "code",
      "execution_count": null,
      "id": "21a3c227-c2f0-421b-8929-2d23334cb863",
      "metadata": {
        "execution": {
          "iopub.execute_input": "2025-06-10T15:51:43.180198Z",
          "iopub.status.busy": "2025-06-10T15:51:43.179923Z",
          "iopub.status.idle": "2025-06-10T15:52:12.587977Z",
          "shell.execute_reply": "2025-06-10T15:52:12.586434Z",
          "shell.execute_reply.started": "2025-06-10T15:51:43.180165Z"
        },
        "tags": [],
        "colab": {
          "referenced_widgets": [
            "96b9c50a59c14c4cb2d7f8b1c2daa7b4",
            ""
          ]
        },
        "id": "21a3c227-c2f0-421b-8929-2d23334cb863",
        "outputId": "142d65b3-27fc-43c9-8006-969867d57c95"
      },
      "outputs": [
        {
          "data": {
            "application/vnd.jupyter.widget-view+json": {
              "model_id": "96b9c50a59c14c4cb2d7f8b1c2daa7b4",
              "version_major": 2,
              "version_minor": 0
            },
            "text/plain": [
              "VBox()"
            ]
          },
          "metadata": {},
          "output_type": "display_data"
        },
        {
          "data": {
            "application/vnd.jupyter.widget-view+json": {
              "model_id": "",
              "version_major": 2,
              "version_minor": 0
            },
            "text/plain": [
              "FloatProgress(value=0.0, bar_style='info', description='Progress:', layout=Layout(height='25px', width='50%'),…"
            ]
          },
          "metadata": {},
          "output_type": "display_data"
        },
        {
          "name": "stdout",
          "output_type": "stream",
          "text": [
            "Plot saved to s3://chicago-crimes-bucket-aravindh/plots/crime_trends_over_time.png"
          ]
        }
      ],
      "source": [
        "#Visualization of CRIME TRENDS OVER TIME\n",
        "# crimes per year data\n",
        "crimes_per_year = df_ml_ready.groupBy(\"Year\").count().orderBy(\"Year\").toPandas()\n",
        "\n",
        "plt.figure(figsize=(12, 6))\n",
        "plt.plot(crimes_per_year['Year'], crimes_per_year['count'], marker='o', linewidth=2, markersize=6)\n",
        "plt.title('Chicago Crime Trends Over Time', fontsize=16, fontweight='bold')\n",
        "plt.xlabel('Year', fontsize=12)\n",
        "plt.ylabel('Number of Crimes', fontsize=12)\n",
        "plt.grid(True, alpha=0.3)\n",
        "plt.xticks(rotation=45)\n",
        "\n",
        "max_crimes_year = crimes_per_year.loc[crimes_per_year['count'].idxmax()]\n",
        "plt.annotate(f'Peak: {max_crimes_year[\"count\"]:,} crimes\\nin {max_crimes_year[\"Year\"]}',\n",
        "             xy=(max_crimes_year['Year'], max_crimes_year['count']),\n",
        "             xytext=(max_crimes_year['Year']+2, max_crimes_year['count']+20000),\n",
        "             arrowprops=dict(arrowstyle='->', color='red'),\n",
        "             fontsize=10, ha='center')\n",
        "\n",
        "plt.tight_layout()\n",
        "%matplot plt\n",
        "save_plot_to_s3(plt, \"crime_trends_over_time.png\")\n",
        "plt.show()"
      ]
    },
    {
      "cell_type": "code",
      "execution_count": null,
      "id": "632ed677-e1c5-4ad8-b4ed-900420d0f2aa",
      "metadata": {
        "execution": {
          "iopub.execute_input": "2025-06-10T15:53:17.965160Z",
          "iopub.status.busy": "2025-06-10T15:53:17.964830Z",
          "iopub.status.idle": "2025-06-10T15:53:47.383686Z",
          "shell.execute_reply": "2025-06-10T15:53:47.382494Z",
          "shell.execute_reply.started": "2025-06-10T15:53:17.965128Z"
        },
        "tags": [],
        "colab": {
          "referenced_widgets": [
            "7537cfb60f5549e8bfb614cd14da83a5",
            ""
          ]
        },
        "id": "632ed677-e1c5-4ad8-b4ed-900420d0f2aa",
        "outputId": "b8d6c59d-a0c5-4ae8-8560-c0a0048d4ae8"
      },
      "outputs": [
        {
          "data": {
            "application/vnd.jupyter.widget-view+json": {
              "model_id": "7537cfb60f5549e8bfb614cd14da83a5",
              "version_major": 2,
              "version_minor": 0
            },
            "text/plain": [
              "VBox()"
            ]
          },
          "metadata": {},
          "output_type": "display_data"
        },
        {
          "data": {
            "application/vnd.jupyter.widget-view+json": {
              "model_id": "",
              "version_major": 2,
              "version_minor": 0
            },
            "text/plain": [
              "FloatProgress(value=0.0, bar_style='info', description='Progress:', layout=Layout(height='25px', width='50%'),…"
            ]
          },
          "metadata": {},
          "output_type": "display_data"
        },
        {
          "name": "stdout",
          "output_type": "stream",
          "text": [
            "Plot saved to s3://chicago-crimes-bucket-aravindh/plots/arrest_rates_by_crime_type.png"
          ]
        }
      ],
      "source": [
        "#  ARREST RATES BY CRIME TYPE\n",
        "\n",
        "\n",
        "# Get arrest rates for top 15 crime types\n",
        "arrest_rates = df_ml_ready.groupBy(\"Primary_Type\") \\\n",
        "    .agg(avg(col(\"Arrest\").cast(\"int\")).alias(\"Arrest_Rate\"),\n",
        "         count(\"*\").alias(\"Total_Crimes\")) \\\n",
        "    .filter(col(\"Total_Crimes\") > 10000) \\\n",
        "    .orderBy(col(\"Arrest_Rate\").desc()).limit(15).toPandas()\n",
        "\n",
        "plt.figure(figsize=(14, 8))\n",
        "colors = plt.cm.RdYlBu_r(arrest_rates['Arrest_Rate'])\n",
        "bars = plt.bar(range(len(arrest_rates)), arrest_rates['Arrest_Rate'], color=colors)\n",
        "\n",
        "plt.xticks(range(len(arrest_rates)), arrest_rates['Primary_Type'], rotation=45, ha='right')\n",
        "plt.ylabel('Arrest Rate', fontsize=12)\n",
        "plt.title('Arrest Rates by Crime Type (Min 10K Cases)', fontsize=16, fontweight='bold')\n",
        "plt.ylim(0, 1)\n",
        "\n",
        "for i, bar in enumerate(bars):\n",
        "    height = bar.get_height()\n",
        "    plt.text(bar.get_x() + bar.get_width()/2., height + 0.01,\n",
        "             f'{height:.1%}', ha='center', va='bottom', fontsize=9)\n",
        "\n",
        "plt.grid(axis='y', alpha=0.3)\n",
        "plt.tight_layout()\n",
        "%matplot plt\n",
        "save_plot_to_s3(plt, \"arrest_rates_by_crime_type.png\")\n",
        "plt.show()\n"
      ]
    },
    {
      "cell_type": "code",
      "execution_count": null,
      "id": "8a178298-ec73-419a-bee4-631b88fdcf8a",
      "metadata": {
        "execution": {
          "iopub.execute_input": "2025-06-10T15:54:06.527836Z",
          "iopub.status.busy": "2025-06-10T15:54:06.527539Z",
          "iopub.status.idle": "2025-06-10T15:54:07.358008Z",
          "shell.execute_reply": "2025-06-10T15:54:07.356823Z",
          "shell.execute_reply.started": "2025-06-10T15:54:06.527804Z"
        },
        "tags": [],
        "colab": {
          "referenced_widgets": [
            "bcd7a82cf03c4233b5e7437918d3258e",
            ""
          ]
        },
        "id": "8a178298-ec73-419a-bee4-631b88fdcf8a",
        "outputId": "50d2ee4d-5924-4e90-c1b4-eb6c869b77ba"
      },
      "outputs": [
        {
          "data": {
            "application/vnd.jupyter.widget-view+json": {
              "model_id": "bcd7a82cf03c4233b5e7437918d3258e",
              "version_major": 2,
              "version_minor": 0
            },
            "text/plain": [
              "VBox()"
            ]
          },
          "metadata": {},
          "output_type": "display_data"
        },
        {
          "data": {
            "application/vnd.jupyter.widget-view+json": {
              "model_id": "",
              "version_major": 2,
              "version_minor": 0
            },
            "text/plain": [
              "FloatProgress(value=0.0, bar_style='info', description='Progress:', layout=Layout(height='25px', width='50%'),…"
            ]
          },
          "metadata": {},
          "output_type": "display_data"
        },
        {
          "name": "stdout",
          "output_type": "stream",
          "text": [
            "Plot saved to s3://chicago-crimes-bucket-aravindh/plots/model_performance_comparison.png"
          ]
        }
      ],
      "source": [
        "# ML MODEL PERFORMANCE COMPARISON of DECISION TREE AND LOGISTIC REGRESSION\n",
        "\n",
        "\n",
        "# Model performance data (from your previous results)\n",
        "models = ['Logistic Regression', 'Decision Tree']\n",
        "auc_scores = [0.6212, 0.6092]  # Your actual AUC scores\n",
        "\n",
        "plt.figure(figsize=(10, 6))\n",
        "bars = plt.bar(models, auc_scores, color=['skyblue', 'lightcoral'], alpha=0.8)\n",
        "plt.ylabel('AUC Score', fontsize=12)\n",
        "plt.title('Model Performance Comparison (AUC Scores)', fontsize=16, fontweight='bold')\n",
        "plt.ylim(0, 1)\n",
        "\n",
        "for bar, score in zip(bars, auc_scores):\n",
        "    plt.text(bar.get_x() + bar.get_width()/2., bar.get_height() + 0.01,\n",
        "             f'{score:.4f}', ha='center', va='bottom', fontsize=12, fontweight='bold')\n",
        "\n",
        "plt.axhline(y=0.5, color='red', linestyle='--', alpha=0.7, label='Random Performance')\n",
        "plt.legend()\n",
        "\n",
        "plt.grid(axis='y', alpha=0.3)\n",
        "plt.tight_layout()\n",
        "%matplot plt\n",
        "save_plot_to_s3(plt, \"model_performance_comparison.png\")\n",
        "plt.show()"
      ]
    },
    {
      "cell_type": "code",
      "execution_count": null,
      "id": "f29aa09e-55bb-498f-b8d8-a6e062b29d5f",
      "metadata": {
        "id": "f29aa09e-55bb-498f-b8d8-a6e062b29d5f"
      },
      "outputs": [],
      "source": []
    }
  ],
  "metadata": {
    "kernelspec": {
      "display_name": "PySpark",
      "language": "python",
      "name": "pysparkkernel"
    },
    "language_info": {
      "codemirror_mode": {
        "name": "python",
        "version": 3
      },
      "file_extension": ".py",
      "mimetype": "text/x-python",
      "name": "pyspark",
      "pygments_lexer": "python3"
    },
    "colab": {
      "provenance": [],
      "include_colab_link": true
    }
  },
  "nbformat": 4,
  "nbformat_minor": 5
}